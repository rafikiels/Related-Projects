{
  "nbformat": 4,
  "nbformat_minor": 0,
  "metadata": {
    "interpreter": {
      "hash": "b3ba2566441a7c06988d0923437866b63cedc61552a5af99d1f4fb67d367b25f"
    },
    "kernelspec": {
      "display_name": "Python 3.8.5 64-bit ('base': conda)",
      "language": "python",
      "name": "python3"
    },
    "language_info": {
      "codemirror_mode": {
        "name": "ipython",
        "version": 3
      },
      "file_extension": ".py",
      "mimetype": "text/x-python",
      "name": "python",
      "nbconvert_exporter": "python",
      "pygments_lexer": "ipython3",
      "version": "3.8.12"
    },
    "orig_nbformat": 4,
    "colab": {
      "name": "Copy of scotch-nlp-notebook.ipynb",
      "provenance": [],
      "collapsed_sections": [],
      "include_colab_link": true
    },
    "widgets": {
      "application/vnd.jupyter.widget-state+json": {
        "3002e946d50949ff8ff439a27e97e415": {
          "model_module": "@jupyter-widgets/controls",
          "model_name": "HBoxModel",
          "model_module_version": "1.5.0",
          "state": {
            "_view_name": "HBoxView",
            "_dom_classes": [],
            "_model_name": "HBoxModel",
            "_view_module": "@jupyter-widgets/controls",
            "_model_module_version": "1.5.0",
            "_view_count": null,
            "_view_module_version": "1.5.0",
            "box_style": "",
            "layout": "IPY_MODEL_b371804c03a84636a2c684da38936e3e",
            "_model_module": "@jupyter-widgets/controls",
            "children": [
              "IPY_MODEL_de2e9a764f524666be0b45c0a4e8ec6d",
              "IPY_MODEL_0122ed3727ca4ef9b271c73d5cb96523",
              "IPY_MODEL_54b85ce76be44378b2ce2514f7d3b71b"
            ]
          }
        },
        "b371804c03a84636a2c684da38936e3e": {
          "model_module": "@jupyter-widgets/base",
          "model_name": "LayoutModel",
          "model_module_version": "1.2.0",
          "state": {
            "_view_name": "LayoutView",
            "grid_template_rows": null,
            "right": null,
            "justify_content": null,
            "_view_module": "@jupyter-widgets/base",
            "overflow": null,
            "_model_module_version": "1.2.0",
            "_view_count": null,
            "flex_flow": "row wrap",
            "width": "100%",
            "min_width": null,
            "border": null,
            "align_items": null,
            "bottom": null,
            "_model_module": "@jupyter-widgets/base",
            "top": null,
            "grid_column": null,
            "overflow_y": null,
            "overflow_x": null,
            "grid_auto_flow": null,
            "grid_area": null,
            "grid_template_columns": null,
            "flex": null,
            "_model_name": "LayoutModel",
            "justify_items": null,
            "grid_row": null,
            "max_height": null,
            "align_content": null,
            "visibility": null,
            "align_self": null,
            "height": null,
            "min_height": null,
            "padding": null,
            "grid_auto_rows": null,
            "grid_gap": null,
            "max_width": null,
            "order": null,
            "_view_module_version": "1.2.0",
            "grid_template_areas": null,
            "object_position": null,
            "object_fit": null,
            "grid_auto_columns": null,
            "margin": null,
            "display": "inline-flex",
            "left": null
          }
        },
        "de2e9a764f524666be0b45c0a4e8ec6d": {
          "model_module": "@jupyter-widgets/controls",
          "model_name": "HTMLModel",
          "model_module_version": "1.5.0",
          "state": {
            "_view_name": "HTMLView",
            "style": "IPY_MODEL_c93a073ce17e4db08a3a50489c234a9d",
            "_dom_classes": [],
            "description": "",
            "_model_name": "HTMLModel",
            "placeholder": "​",
            "_view_module": "@jupyter-widgets/controls",
            "_model_module_version": "1.5.0",
            "value": "Done! Use &#x27;show&#x27; commands to display/save.   ",
            "_view_count": null,
            "_view_module_version": "1.5.0",
            "description_tooltip": null,
            "_model_module": "@jupyter-widgets/controls",
            "layout": "IPY_MODEL_dea25ddbf37a467e8290978677565438"
          }
        },
        "0122ed3727ca4ef9b271c73d5cb96523": {
          "model_module": "@jupyter-widgets/controls",
          "model_name": "FloatProgressModel",
          "model_module_version": "1.5.0",
          "state": {
            "_view_name": "ProgressView",
            "style": "IPY_MODEL_f94a035a0c56413ba3e09c29557601d8",
            "_dom_classes": [],
            "description": "",
            "_model_name": "FloatProgressModel",
            "bar_style": "success",
            "max": 1,
            "_view_module": "@jupyter-widgets/controls",
            "_model_module_version": "1.5.0",
            "value": 1,
            "_view_count": null,
            "_view_module_version": "1.5.0",
            "orientation": "horizontal",
            "min": 0,
            "description_tooltip": null,
            "_model_module": "@jupyter-widgets/controls",
            "layout": "IPY_MODEL_96f221fb597c4e649cce947d3e6a4dd7"
          }
        },
        "54b85ce76be44378b2ce2514f7d3b71b": {
          "model_module": "@jupyter-widgets/controls",
          "model_name": "HTMLModel",
          "model_module_version": "1.5.0",
          "state": {
            "_view_name": "HTMLView",
            "style": "IPY_MODEL_bd60493984ff4582be5fc06c5a9a49e4",
            "_dom_classes": [],
            "description": "",
            "_model_name": "HTMLModel",
            "placeholder": "​",
            "_view_module": "@jupyter-widgets/controls",
            "_model_module_version": "1.5.0",
            "value": " [100%]   00:00 -&gt; (00:00 left)",
            "_view_count": null,
            "_view_module_version": "1.5.0",
            "description_tooltip": null,
            "_model_module": "@jupyter-widgets/controls",
            "layout": "IPY_MODEL_1bdbb8777b584c31aabd07f596c237bf"
          }
        },
        "c93a073ce17e4db08a3a50489c234a9d": {
          "model_module": "@jupyter-widgets/controls",
          "model_name": "DescriptionStyleModel",
          "model_module_version": "1.5.0",
          "state": {
            "_view_name": "StyleView",
            "_model_name": "DescriptionStyleModel",
            "description_width": "",
            "_view_module": "@jupyter-widgets/base",
            "_model_module_version": "1.5.0",
            "_view_count": null,
            "_view_module_version": "1.2.0",
            "_model_module": "@jupyter-widgets/controls"
          }
        },
        "dea25ddbf37a467e8290978677565438": {
          "model_module": "@jupyter-widgets/base",
          "model_name": "LayoutModel",
          "model_module_version": "1.2.0",
          "state": {
            "_view_name": "LayoutView",
            "grid_template_rows": null,
            "right": null,
            "justify_content": null,
            "_view_module": "@jupyter-widgets/base",
            "overflow": null,
            "_model_module_version": "1.2.0",
            "_view_count": null,
            "flex_flow": null,
            "width": null,
            "min_width": null,
            "border": null,
            "align_items": null,
            "bottom": null,
            "_model_module": "@jupyter-widgets/base",
            "top": null,
            "grid_column": null,
            "overflow_y": null,
            "overflow_x": null,
            "grid_auto_flow": null,
            "grid_area": null,
            "grid_template_columns": null,
            "flex": null,
            "_model_name": "LayoutModel",
            "justify_items": null,
            "grid_row": null,
            "max_height": null,
            "align_content": null,
            "visibility": null,
            "align_self": null,
            "height": null,
            "min_height": null,
            "padding": null,
            "grid_auto_rows": null,
            "grid_gap": null,
            "max_width": null,
            "order": null,
            "_view_module_version": "1.2.0",
            "grid_template_areas": null,
            "object_position": null,
            "object_fit": null,
            "grid_auto_columns": null,
            "margin": null,
            "display": null,
            "left": null
          }
        },
        "f94a035a0c56413ba3e09c29557601d8": {
          "model_module": "@jupyter-widgets/controls",
          "model_name": "ProgressStyleModel",
          "model_module_version": "1.5.0",
          "state": {
            "_view_name": "StyleView",
            "_model_name": "ProgressStyleModel",
            "description_width": "",
            "_view_module": "@jupyter-widgets/base",
            "_model_module_version": "1.5.0",
            "_view_count": null,
            "_view_module_version": "1.2.0",
            "bar_color": null,
            "_model_module": "@jupyter-widgets/controls"
          }
        },
        "96f221fb597c4e649cce947d3e6a4dd7": {
          "model_module": "@jupyter-widgets/base",
          "model_name": "LayoutModel",
          "model_module_version": "1.2.0",
          "state": {
            "_view_name": "LayoutView",
            "grid_template_rows": null,
            "right": null,
            "justify_content": null,
            "_view_module": "@jupyter-widgets/base",
            "overflow": null,
            "_model_module_version": "1.2.0",
            "_view_count": null,
            "flex_flow": null,
            "width": null,
            "min_width": null,
            "border": null,
            "align_items": null,
            "bottom": null,
            "_model_module": "@jupyter-widgets/base",
            "top": null,
            "grid_column": null,
            "overflow_y": null,
            "overflow_x": null,
            "grid_auto_flow": null,
            "grid_area": null,
            "grid_template_columns": null,
            "flex": "2",
            "_model_name": "LayoutModel",
            "justify_items": null,
            "grid_row": null,
            "max_height": null,
            "align_content": null,
            "visibility": null,
            "align_self": null,
            "height": null,
            "min_height": null,
            "padding": null,
            "grid_auto_rows": null,
            "grid_gap": null,
            "max_width": null,
            "order": null,
            "_view_module_version": "1.2.0",
            "grid_template_areas": null,
            "object_position": null,
            "object_fit": null,
            "grid_auto_columns": null,
            "margin": null,
            "display": null,
            "left": null
          }
        },
        "bd60493984ff4582be5fc06c5a9a49e4": {
          "model_module": "@jupyter-widgets/controls",
          "model_name": "DescriptionStyleModel",
          "model_module_version": "1.5.0",
          "state": {
            "_view_name": "StyleView",
            "_model_name": "DescriptionStyleModel",
            "description_width": "",
            "_view_module": "@jupyter-widgets/base",
            "_model_module_version": "1.5.0",
            "_view_count": null,
            "_view_module_version": "1.2.0",
            "_model_module": "@jupyter-widgets/controls"
          }
        },
        "1bdbb8777b584c31aabd07f596c237bf": {
          "model_module": "@jupyter-widgets/base",
          "model_name": "LayoutModel",
          "model_module_version": "1.2.0",
          "state": {
            "_view_name": "LayoutView",
            "grid_template_rows": null,
            "right": null,
            "justify_content": null,
            "_view_module": "@jupyter-widgets/base",
            "overflow": null,
            "_model_module_version": "1.2.0",
            "_view_count": null,
            "flex_flow": null,
            "width": null,
            "min_width": null,
            "border": null,
            "align_items": null,
            "bottom": null,
            "_model_module": "@jupyter-widgets/base",
            "top": null,
            "grid_column": null,
            "overflow_y": null,
            "overflow_x": null,
            "grid_auto_flow": null,
            "grid_area": null,
            "grid_template_columns": null,
            "flex": null,
            "_model_name": "LayoutModel",
            "justify_items": null,
            "grid_row": null,
            "max_height": null,
            "align_content": null,
            "visibility": null,
            "align_self": null,
            "height": null,
            "min_height": null,
            "padding": null,
            "grid_auto_rows": null,
            "grid_gap": null,
            "max_width": null,
            "order": null,
            "_view_module_version": "1.2.0",
            "grid_template_areas": null,
            "object_position": null,
            "object_fit": null,
            "grid_auto_columns": null,
            "margin": null,
            "display": null,
            "left": null
          }
        }
      }
    }
  },
  "cells": [
    {
      "cell_type": "markdown",
      "metadata": {
        "id": "view-in-github",
        "colab_type": "text"
      },
      "source": [
        "<a href=\"https://colab.research.google.com/github/rafikiels/Related-Projects/blob/main/Copy_of_scotch_nlp_notebook.ipynb\" target=\"_parent\"><img src=\"https://colab.research.google.com/assets/colab-badge.svg\" alt=\"Open In Colab\"/></a>"
      ]
    },
    {
      "cell_type": "markdown",
      "metadata": {
        "id": "xm5RxOlxz8ad"
      },
      "source": [
        "# BA820 - Unsupervised Machine Learning\n",
        "## Scotch NLP Group Project\n",
        "### Team A3\n",
        "Aditya Sinha, Rochel Chan, Weijia Suo, Rafikiel Seyvunde, Alexander von Schwerdtner"
      ]
    },
    {
      "cell_type": "markdown",
      "metadata": {
        "id": "ur0Ozed09P3W"
      },
      "source": [
        "# Setup"
      ]
    },
    {
      "cell_type": "code",
      "metadata": {
        "id": "Lkl4DMgRuf74"
      },
      "source": [
        "! pip install umap-learn -q\n",
        "! pip install category_encoders -q"
      ],
      "execution_count": null,
      "outputs": []
    },
    {
      "cell_type": "code",
      "metadata": {
        "id": "Z-vkPj5fcsj1"
      },
      "source": [
        "# imports\n",
        "import pandas as pd\n",
        "import seaborn as sns\n",
        "import numpy as np\n",
        "import matplotlib.pyplot as plt"
      ],
      "execution_count": null,
      "outputs": []
    },
    {
      "cell_type": "code",
      "metadata": {
        "id": "8ipI7Juocsj6",
        "colab": {
          "base_uri": "https://localhost:8080/",
          "height": 144
        },
        "outputId": "dce8f19c-2237-4cdc-99a5-78302f32461f"
      },
      "source": [
        "# reading dataset into the environment\n",
        "scotch_dataset = pd.read_csv(\"https://raw.githubusercontent.com/aditya248/scotch-review-nlp/main/scotch_review2020.csv\")\n",
        "scotch_dataset.sample(3)"
      ],
      "execution_count": null,
      "outputs": [
        {
          "output_type": "execute_result",
          "data": {
            "text/html": [
              "<div>\n",
              "<style scoped>\n",
              "    .dataframe tbody tr th:only-of-type {\n",
              "        vertical-align: middle;\n",
              "    }\n",
              "\n",
              "    .dataframe tbody tr th {\n",
              "        vertical-align: top;\n",
              "    }\n",
              "\n",
              "    .dataframe thead th {\n",
              "        text-align: right;\n",
              "    }\n",
              "</style>\n",
              "<table border=\"1\" class=\"dataframe\">\n",
              "  <thead>\n",
              "    <tr style=\"text-align: right;\">\n",
              "      <th></th>\n",
              "      <th>id</th>\n",
              "      <th>name</th>\n",
              "      <th>category</th>\n",
              "      <th>review.point</th>\n",
              "      <th>price</th>\n",
              "      <th>currency</th>\n",
              "      <th>description.1.2247.</th>\n",
              "    </tr>\n",
              "  </thead>\n",
              "  <tbody>\n",
              "    <tr>\n",
              "      <th>957</th>\n",
              "      <td>958</td>\n",
              "      <td>Wemyss Malts Kiln Embers, 46%</td>\n",
              "      <td>Blended Malt Scotch Whisky</td>\n",
              "      <td>89</td>\n",
              "      <td>64</td>\n",
              "      <td>$</td>\n",
              "      <td>If I had to back one of the protagonists in Do...</td>\n",
              "    </tr>\n",
              "    <tr>\n",
              "      <th>554</th>\n",
              "      <td>555</td>\n",
              "      <td>Blackadder 11 year old Raw Cask Balmenach 2008...</td>\n",
              "      <td>Single Malt Scotch</td>\n",
              "      <td>91</td>\n",
              "      <td>165</td>\n",
              "      <td>$</td>\n",
              "      <td>Two parcels of single malt of differing ages f...</td>\n",
              "    </tr>\n",
              "    <tr>\n",
              "      <th>700</th>\n",
              "      <td>701</td>\n",
              "      <td>Laphroaig 32 year old, 46.5%</td>\n",
              "      <td>Single Malt Scotch</td>\n",
              "      <td>90</td>\n",
              "      <td>1,500</td>\n",
              "      <td>$</td>\n",
              "      <td>Light gold. A beautiful oxidized note, with so...</td>\n",
              "    </tr>\n",
              "  </tbody>\n",
              "</table>\n",
              "</div>"
            ],
            "text/plain": [
              "      id  ...                                description.1.2247.\n",
              "957  958  ...  If I had to back one of the protagonists in Do...\n",
              "554  555  ...  Two parcels of single malt of differing ages f...\n",
              "700  701  ...  Light gold. A beautiful oxidized note, with so...\n",
              "\n",
              "[3 rows x 7 columns]"
            ]
          },
          "metadata": {},
          "execution_count": 107
        }
      ]
    },
    {
      "cell_type": "markdown",
      "metadata": {
        "id": "QC17lbOQgA30"
      },
      "source": [
        "## Data Cleaning"
      ]
    },
    {
      "cell_type": "code",
      "metadata": {
        "colab": {
          "base_uri": "https://localhost:8080/"
        },
        "id": "fXMInnZShgfP",
        "outputId": "ffddf20f-3d32-44da-8f32-0c4ac32b9fea"
      },
      "source": [
        "scotch_dataset.shape"
      ],
      "execution_count": null,
      "outputs": [
        {
          "output_type": "execute_result",
          "data": {
            "text/plain": [
              "(2247, 7)"
            ]
          },
          "metadata": {},
          "execution_count": 108
        }
      ]
    },
    {
      "cell_type": "code",
      "metadata": {
        "colab": {
          "base_uri": "https://localhost:8080/"
        },
        "id": "5xPHf26Bh72H",
        "outputId": "0b3b043b-161a-4135-ba6e-88d00fe646d4"
      },
      "source": [
        "scotch_dataset.columns"
      ],
      "execution_count": null,
      "outputs": [
        {
          "output_type": "execute_result",
          "data": {
            "text/plain": [
              "Index(['id', 'name', 'category', 'review.point', 'price', 'currency',\n",
              "       'description.1.2247.'],\n",
              "      dtype='object')"
            ]
          },
          "metadata": {},
          "execution_count": 109
        }
      ]
    },
    {
      "cell_type": "code",
      "metadata": {
        "colab": {
          "base_uri": "https://localhost:8080/"
        },
        "id": "Iyua1QnqkHia",
        "outputId": "a83c06e0-dc73-4abf-c859-29a5ce400664"
      },
      "source": [
        "# check column types\n",
        "scotch_dataset.dtypes"
      ],
      "execution_count": null,
      "outputs": [
        {
          "output_type": "execute_result",
          "data": {
            "text/plain": [
              "id                      int64\n",
              "name                   object\n",
              "category               object\n",
              "review.point            int64\n",
              "price                  object\n",
              "currency               object\n",
              "description.1.2247.    object\n",
              "dtype: object"
            ]
          },
          "metadata": {},
          "execution_count": 110
        }
      ]
    },
    {
      "cell_type": "code",
      "metadata": {
        "id": "3so1DnGPhVfU"
      },
      "source": [
        "scotch_dataset = scotch_dataset.rename(columns={'description.1.2247.': 'review_description'})"
      ],
      "execution_count": null,
      "outputs": []
    },
    {
      "cell_type": "code",
      "metadata": {
        "colab": {
          "base_uri": "https://localhost:8080/"
        },
        "id": "bP73Kt7clXVG",
        "outputId": "078ca0c2-540c-4adb-fd9a-3e7d2a982f1b"
      },
      "source": [
        "# Clean price column price and change type.\n",
        "pattern = r'[A-Za-z]'\n",
        "scotch_dataset[scotch_dataset['price'].str.contains(pattern)]['price']"
      ],
      "execution_count": null,
      "outputs": [
        {
          "output_type": "execute_result",
          "data": {
            "text/plain": [
              "33      15,000 or $60,000/set\n",
              "92                 150/375ml.\n",
              "94                  50/375ml.\n",
              "186                60,000/set\n",
              "359                 50/375ml.\n",
              "739                60,000/set\n",
              "778                100/375ml.\n",
              "1010                 44/liter\n",
              "1280               132/700ml.\n",
              "1548               60,000/set\n",
              "1814               60,000/set\n",
              "1825            39/1.75 liter\n",
              "2027                 35/liter\n",
              "2200            18/1.75 liter\n",
              "Name: price, dtype: object"
            ]
          },
          "metadata": {},
          "execution_count": 112
        }
      ]
    },
    {
      "cell_type": "code",
      "metadata": {
        "id": "TVkwwcVekbWN"
      },
      "source": [
        "scotch_dataset.iloc[33,4] = '15000'\n",
        "scotch_dataset['price'].replace(',', '', inplace = True, regex = True)\n",
        "scotch_dataset['price'] = scotch_dataset['price'].map(lambda x: x.split('/')[0])"
      ],
      "execution_count": null,
      "outputs": []
    },
    {
      "cell_type": "code",
      "metadata": {
        "id": "eUuhDR6HlCGY"
      },
      "source": [
        "scotch_dataset['price'] = scotch_dataset['price'].astype('float')"
      ],
      "execution_count": null,
      "outputs": []
    },
    {
      "cell_type": "code",
      "metadata": {
        "colab": {
          "base_uri": "https://localhost:8080/"
        },
        "id": "fTFwGdJ1gCUi",
        "outputId": "512a6c06-2364-4d9b-871e-73411eb489d7"
      },
      "source": [
        "# check for duplicates\n",
        "scotch_dataset.duplicated().sum()"
      ],
      "execution_count": null,
      "outputs": [
        {
          "output_type": "execute_result",
          "data": {
            "text/plain": [
              "0"
            ]
          },
          "metadata": {},
          "execution_count": 115
        }
      ]
    },
    {
      "cell_type": "code",
      "metadata": {
        "colab": {
          "base_uri": "https://localhost:8080/"
        },
        "id": "xuU6ajb2gVIJ",
        "outputId": "6f32c37d-30e6-4b83-fa6b-c1d62667593f"
      },
      "source": [
        "# check for null values\n",
        "scotch_dataset.isna().sum()"
      ],
      "execution_count": null,
      "outputs": [
        {
          "output_type": "execute_result",
          "data": {
            "text/plain": [
              "id                     0\n",
              "name                   0\n",
              "category               0\n",
              "review.point           0\n",
              "price                  0\n",
              "currency               0\n",
              "review_description    39\n",
              "dtype: int64"
            ]
          },
          "metadata": {},
          "execution_count": 116
        }
      ]
    },
    {
      "cell_type": "code",
      "metadata": {
        "colab": {
          "base_uri": "https://localhost:8080/"
        },
        "id": "60RNGhSfglKZ",
        "outputId": "446ea22f-916d-4180-eaa1-d616f927cd21"
      },
      "source": [
        "# drop 39 null or na values\n",
        "scotch_dataset.dropna(inplace=True)\n",
        "scotch_dataset.isna().sum()"
      ],
      "execution_count": null,
      "outputs": [
        {
          "output_type": "execute_result",
          "data": {
            "text/plain": [
              "id                    0\n",
              "name                  0\n",
              "category              0\n",
              "review.point          0\n",
              "price                 0\n",
              "currency              0\n",
              "review_description    0\n",
              "dtype: int64"
            ]
          },
          "metadata": {},
          "execution_count": 117
        }
      ]
    },
    {
      "cell_type": "code",
      "metadata": {
        "colab": {
          "base_uri": "https://localhost:8080/",
          "height": 1000
        },
        "id": "Ydmb6-90iu6V",
        "outputId": "c696d773-28c2-4277-e650-1da255f24c9a"
      },
      "source": [
        "scotch_dataset[scotch_dataset['name'].duplicated() == True]"
      ],
      "execution_count": null,
      "outputs": [
        {
          "output_type": "execute_result",
          "data": {
            "text/html": [
              "<div>\n",
              "<style scoped>\n",
              "    .dataframe tbody tr th:only-of-type {\n",
              "        vertical-align: middle;\n",
              "    }\n",
              "\n",
              "    .dataframe tbody tr th {\n",
              "        vertical-align: top;\n",
              "    }\n",
              "\n",
              "    .dataframe thead th {\n",
              "        text-align: right;\n",
              "    }\n",
              "</style>\n",
              "<table border=\"1\" class=\"dataframe\">\n",
              "  <thead>\n",
              "    <tr style=\"text-align: right;\">\n",
              "      <th></th>\n",
              "      <th>id</th>\n",
              "      <th>name</th>\n",
              "      <th>category</th>\n",
              "      <th>review.point</th>\n",
              "      <th>price</th>\n",
              "      <th>currency</th>\n",
              "      <th>review_description</th>\n",
              "    </tr>\n",
              "  </thead>\n",
              "  <tbody>\n",
              "    <tr>\n",
              "      <th>108</th>\n",
              "      <td>109</td>\n",
              "      <td>Benriach The Smoky Twelve, 46%</td>\n",
              "      <td>Single Malt Scotch</td>\n",
              "      <td>94</td>\n",
              "      <td>65.0</td>\n",
              "      <td>$</td>\n",
              "      <td>\\r\\n\\r\\nLet this whisky glide into your glass ...</td>\n",
              "    </tr>\n",
              "    <tr>\n",
              "      <th>192</th>\n",
              "      <td>193</td>\n",
              "      <td>Laphroaig Triple Wood, 48%</td>\n",
              "      <td>Single Malt Scotch</td>\n",
              "      <td>93</td>\n",
              "      <td>70.0</td>\n",
              "      <td>$</td>\n",
              "      <td>Aged in a European oak oloroso sherry hogshead...</td>\n",
              "    </tr>\n",
              "    <tr>\n",
              "      <th>199</th>\n",
              "      <td>200</td>\n",
              "      <td>Laphroaig 10 year old Cask Strength (Batch 010...</td>\n",
              "      <td>Single Malt Scotch</td>\n",
              "      <td>93</td>\n",
              "      <td>70.0</td>\n",
              "      <td>$</td>\n",
              "      <td>Initially matured in bourbon barrels, then tra...</td>\n",
              "    </tr>\n",
              "    <tr>\n",
              "      <th>202</th>\n",
              "      <td>203</td>\n",
              "      <td>Compass Box Spice Tree Extravaganza, 46%</td>\n",
              "      <td>Blended Malt Scotch Whisky</td>\n",
              "      <td>93</td>\n",
              "      <td>140.0</td>\n",
              "      <td>$</td>\n",
              "      <td>The nose offers canned peach halves in syrup, ...</td>\n",
              "    </tr>\n",
              "    <tr>\n",
              "      <th>215</th>\n",
              "      <td>216</td>\n",
              "      <td>Glenlivet Enigma, 60.6%</td>\n",
              "      <td>Single Malt Scotch</td>\n",
              "      <td>93</td>\n",
              "      <td>149.0</td>\n",
              "      <td>$</td>\n",
              "      <td>This presents a mellow bouquet of rich dried f...</td>\n",
              "    </tr>\n",
              "    <tr>\n",
              "      <th>217</th>\n",
              "      <td>218</td>\n",
              "      <td>Aberlour A’bunadh Alba Cask Strength (Batch #0...</td>\n",
              "      <td>Single Malt Scotch</td>\n",
              "      <td>93</td>\n",
              "      <td>90.0</td>\n",
              "      <td>$</td>\n",
              "      <td>The yin to Aberlour A’bunadh’s yang, this cask...</td>\n",
              "    </tr>\n",
              "    <tr>\n",
              "      <th>231</th>\n",
              "      <td>232</td>\n",
              "      <td>Compass Box The Peat Monster, 46%</td>\n",
              "      <td>Blended Malt Scotch Whisky</td>\n",
              "      <td>93</td>\n",
              "      <td>65.0</td>\n",
              "      <td>$</td>\n",
              "      <td>An exceptional blend from first-fill American ...</td>\n",
              "    </tr>\n",
              "    <tr>\n",
              "      <th>232</th>\n",
              "      <td>233</td>\n",
              "      <td>Aberfeldy 18 year old French Red Wine Cask-Fin...</td>\n",
              "      <td>Single Malt Scotch</td>\n",
              "      <td>93</td>\n",
              "      <td>120.0</td>\n",
              "      <td>$</td>\n",
              "      <td>Perfumed on the nose, with fresh-cut flowers, ...</td>\n",
              "    </tr>\n",
              "    <tr>\n",
              "      <th>315</th>\n",
              "      <td>316</td>\n",
              "      <td>Tamdhu Batch Strength (#002), 58.5%</td>\n",
              "      <td>Single Malt Scotch</td>\n",
              "      <td>92</td>\n",
              "      <td>90.0</td>\n",
              "      <td>$</td>\n",
              "      <td>It rarely gets better than this. Vanilla, almo...</td>\n",
              "    </tr>\n",
              "    <tr>\n",
              "      <th>324</th>\n",
              "      <td>325</td>\n",
              "      <td>Longrow 18 year old, 46%</td>\n",
              "      <td>Single Malt Scotch</td>\n",
              "      <td>92</td>\n",
              "      <td>220.0</td>\n",
              "      <td>$</td>\n",
              "      <td>This 42 year old expression was matured in a s...</td>\n",
              "    </tr>\n",
              "    <tr>\n",
              "      <th>354</th>\n",
              "      <td>355</td>\n",
              "      <td>GlenDronach 15 year old Revival, 46%</td>\n",
              "      <td>Single Malt Scotch</td>\n",
              "      <td>92</td>\n",
              "      <td>90.0</td>\n",
              "      <td>$</td>\n",
              "      <td>Sun-bleached driftwood, iodine, curry spices, ...</td>\n",
              "    </tr>\n",
              "    <tr>\n",
              "      <th>359</th>\n",
              "      <td>360</td>\n",
              "      <td>Dewar’s 21 year old Double Double, 46%</td>\n",
              "      <td>Blended Scotch Whisky</td>\n",
              "      <td>92</td>\n",
              "      <td>50.0</td>\n",
              "      <td>$</td>\n",
              "      <td>Slightly oily on the nose, with old leather, g...</td>\n",
              "    </tr>\n",
              "    <tr>\n",
              "      <th>376</th>\n",
              "      <td>377</td>\n",
              "      <td>Laphroaig Càirdeas Cask Strength Triple Wood (...</td>\n",
              "      <td>Single Malt Scotch</td>\n",
              "      <td>92</td>\n",
              "      <td>80.0</td>\n",
              "      <td>$</td>\n",
              "      <td>This Quinta Ruban succeeds the 12 year old ver...</td>\n",
              "    </tr>\n",
              "    <tr>\n",
              "      <th>391</th>\n",
              "      <td>392</td>\n",
              "      <td>Ardbeg 5 year old Wee Beastie, 47.4%</td>\n",
              "      <td>Single Malt Scotch</td>\n",
              "      <td>92</td>\n",
              "      <td>47.0</td>\n",
              "      <td>$</td>\n",
              "      <td>On the nose, intense fruit underlaid with smok...</td>\n",
              "    </tr>\n",
              "    <tr>\n",
              "      <th>393</th>\n",
              "      <td>394</td>\n",
              "      <td>Compass Box The Peat Monster, 46%</td>\n",
              "      <td>Blended Malt Scotch Whisky</td>\n",
              "      <td>92</td>\n",
              "      <td>65.0</td>\n",
              "      <td>$</td>\n",
              "      <td>The nose is thick with bakeshop aromas: sponge...</td>\n",
              "    </tr>\n",
              "    <tr>\n",
              "      <th>409</th>\n",
              "      <td>410</td>\n",
              "      <td>Bowmore 18 year old, 43%</td>\n",
              "      <td>Single Malt Scotch</td>\n",
              "      <td>91</td>\n",
              "      <td>85.0</td>\n",
              "      <td>$</td>\n",
              "      <td>This first cask-strength expression in Highlan...</td>\n",
              "    </tr>\n",
              "    <tr>\n",
              "      <th>510</th>\n",
              "      <td>511</td>\n",
              "      <td>Laphroaig Quarter Cask, 48%</td>\n",
              "      <td>Single Malt Scotch</td>\n",
              "      <td>91</td>\n",
              "      <td>60.0</td>\n",
              "      <td>$</td>\n",
              "      <td>This 23 year old expression was released for t...</td>\n",
              "    </tr>\n",
              "    <tr>\n",
              "      <th>525</th>\n",
              "      <td>526</td>\n",
              "      <td>Talisker Select Reserve, 45.8%</td>\n",
              "      <td>Single Malt Scotch</td>\n",
              "      <td>91</td>\n",
              "      <td>45.0</td>\n",
              "      <td>$</td>\n",
              "      <td>This is one of four new additions to the portf...</td>\n",
              "    </tr>\n",
              "    <tr>\n",
              "      <th>526</th>\n",
              "      <td>527</td>\n",
              "      <td>Kilchoman Loch Gorm 2018, 46%</td>\n",
              "      <td>Single Malt Scotch</td>\n",
              "      <td>91</td>\n",
              "      <td>110.0</td>\n",
              "      <td>$</td>\n",
              "      <td>Complex, elegant textures from the get-go; woo...</td>\n",
              "    </tr>\n",
              "    <tr>\n",
              "      <th>527</th>\n",
              "      <td>528</td>\n",
              "      <td>Sheep Dip Islay Blended Malt, 40%</td>\n",
              "      <td>Blended Malt Scotch Whisky</td>\n",
              "      <td>91</td>\n",
              "      <td>60.0</td>\n",
              "      <td>$</td>\n",
              "      <td>Fresh morning blooms in the flower shop, soft ...</td>\n",
              "    </tr>\n",
              "    <tr>\n",
              "      <th>535</th>\n",
              "      <td>536</td>\n",
              "      <td>Glenmorangie 14 year old Quinta Ruban, 46%</td>\n",
              "      <td>Single Malt Scotch</td>\n",
              "      <td>91</td>\n",
              "      <td>55.0</td>\n",
              "      <td>$</td>\n",
              "      <td>This represents House Greyjoy and features its...</td>\n",
              "    </tr>\n",
              "    <tr>\n",
              "      <th>541</th>\n",
              "      <td>542</td>\n",
              "      <td>Bruichladdich Bere Barley 2010, 50%</td>\n",
              "      <td>Single Malt Scotch</td>\n",
              "      <td>91</td>\n",
              "      <td>100.0</td>\n",
              "      <td>$</td>\n",
              "      <td>Six different cask finishes were used for this...</td>\n",
              "    </tr>\n",
              "    <tr>\n",
              "      <th>553</th>\n",
              "      <td>554</td>\n",
              "      <td>Glenmorangie 15 year old The Cadboll Estate, 43%</td>\n",
              "      <td>Single Malt Scotch</td>\n",
              "      <td>91</td>\n",
              "      <td>85.0</td>\n",
              "      <td>$</td>\n",
              "      <td>The first 15 year old release from Talisker, t...</td>\n",
              "    </tr>\n",
              "    <tr>\n",
              "      <th>615</th>\n",
              "      <td>616</td>\n",
              "      <td>Laphroaig Triple Wood, 48%</td>\n",
              "      <td>Single Malt Scotch</td>\n",
              "      <td>90</td>\n",
              "      <td>100.0</td>\n",
              "      <td>$</td>\n",
              "      <td>This is not a single-cask bottling like other ...</td>\n",
              "    </tr>\n",
              "    <tr>\n",
              "      <th>696</th>\n",
              "      <td>697</td>\n",
              "      <td>Compass Box The Peat Monster, 46%</td>\n",
              "      <td>Blended Scotch Whisky</td>\n",
              "      <td>90</td>\n",
              "      <td>60.0</td>\n",
              "      <td>$</td>\n",
              "      <td>Deep amber. Big, resinous, and almost heathery...</td>\n",
              "    </tr>\n",
              "    <tr>\n",
              "      <th>715</th>\n",
              "      <td>716</td>\n",
              "      <td>Glen Moray 18 year old, 47.2%</td>\n",
              "      <td>Single Malt Scotch</td>\n",
              "      <td>90</td>\n",
              "      <td>90.0</td>\n",
              "      <td>$</td>\n",
              "      <td>Having replaced the 16 year old Longmorn with ...</td>\n",
              "    </tr>\n",
              "    <tr>\n",
              "      <th>717</th>\n",
              "      <td>718</td>\n",
              "      <td>Bruichladdich Islay Barley 2010, 50%</td>\n",
              "      <td>Single Malt Scotch</td>\n",
              "      <td>90</td>\n",
              "      <td>65.0</td>\n",
              "      <td>$</td>\n",
              "      <td>This limited release was aged in seven cask ty...</td>\n",
              "    </tr>\n",
              "    <tr>\n",
              "      <th>728</th>\n",
              "      <td>729</td>\n",
              "      <td>Chapter 7 (undisclosed Highland distillery), 5...</td>\n",
              "      <td>Single Malt Scotch</td>\n",
              "      <td>90</td>\n",
              "      <td>180.0</td>\n",
              "      <td>$</td>\n",
              "      <td>Part of anCnoc’s Peaty Collection, Cutter has ...</td>\n",
              "    </tr>\n",
              "    <tr>\n",
              "      <th>774</th>\n",
              "      <td>775</td>\n",
              "      <td>Chivas Regal Ultis, 40%</td>\n",
              "      <td>Blended Malt Scotch Whisky</td>\n",
              "      <td>90</td>\n",
              "      <td>160.0</td>\n",
              "      <td>$</td>\n",
              "      <td>An array of flowers and fruits tumbles from th...</td>\n",
              "    </tr>\n",
              "    <tr>\n",
              "      <th>788</th>\n",
              "      <td>789</td>\n",
              "      <td>BenRiach 25 year old, 46.8%</td>\n",
              "      <td>Single Malt Scotch</td>\n",
              "      <td>90</td>\n",
              "      <td>300.0</td>\n",
              "      <td>$</td>\n",
              "      <td>This is the oldest regular bottling from Glenm...</td>\n",
              "    </tr>\n",
              "    <tr>\n",
              "      <th>809</th>\n",
              "      <td>810</td>\n",
              "      <td>Tomintoul 25 year old, 43%</td>\n",
              "      <td>Single Malt Scotch</td>\n",
              "      <td>90</td>\n",
              "      <td>500.0</td>\n",
              "      <td>$</td>\n",
              "      <td>Toiteach A Dhà means ‘smoky two’ in Gaelic and...</td>\n",
              "    </tr>\n",
              "    <tr>\n",
              "      <th>813</th>\n",
              "      <td>814</td>\n",
              "      <td>Balblair 15 year old, 46%</td>\n",
              "      <td>Single Malt Scotch</td>\n",
              "      <td>90</td>\n",
              "      <td>120.0</td>\n",
              "      <td>$</td>\n",
              "      <td>GlenDronach is known for its unpeated sherry-m...</td>\n",
              "    </tr>\n",
              "    <tr>\n",
              "      <th>845</th>\n",
              "      <td>846</td>\n",
              "      <td>Glenlivet Archive 21 year old, 43%</td>\n",
              "      <td>Single Malt Scotch</td>\n",
              "      <td>89</td>\n",
              "      <td>130.0</td>\n",
              "      <td>$</td>\n",
              "      <td>Amber with orange and ruby hues. Aromas of Isl...</td>\n",
              "    </tr>\n",
              "    <tr>\n",
              "      <th>853</th>\n",
              "      <td>854</td>\n",
              "      <td>Longmorn 16 year old, 48%</td>\n",
              "      <td>Single Malt Scotch</td>\n",
              "      <td>89</td>\n",
              "      <td>90.0</td>\n",
              "      <td>$</td>\n",
              "      <td>Mahogany color. Full-bodied, thick and chewy. ...</td>\n",
              "    </tr>\n",
              "    <tr>\n",
              "      <th>882</th>\n",
              "      <td>883</td>\n",
              "      <td>Longmorn 16 year old, 48%</td>\n",
              "      <td>Single Malt Scotch</td>\n",
              "      <td>89</td>\n",
              "      <td>110.0</td>\n",
              "      <td>$</td>\n",
              "      <td>Part of the “Rarest of the Rare” collection. M...</td>\n",
              "    </tr>\n",
              "    <tr>\n",
              "      <th>894</th>\n",
              "      <td>895</td>\n",
              "      <td>Caol Ila 12 year old, 43%</td>\n",
              "      <td>Single Malt Scotch</td>\n",
              "      <td>89</td>\n",
              "      <td>65.0</td>\n",
              "      <td>$</td>\n",
              "      <td>Soft and gentle (for Caol Ila, that is), thank...</td>\n",
              "    </tr>\n",
              "    <tr>\n",
              "      <th>1049</th>\n",
              "      <td>1050</td>\n",
              "      <td>Cutty Sark Prohibition, 50%</td>\n",
              "      <td>Blended Scotch Whisky</td>\n",
              "      <td>89</td>\n",
              "      <td>30.0</td>\n",
              "      <td>$</td>\n",
              "      <td>This expression replaces the previous 17 year ...</td>\n",
              "    </tr>\n",
              "    <tr>\n",
              "      <th>1114</th>\n",
              "      <td>1115</td>\n",
              "      <td>Benromach 10 year old, 43%</td>\n",
              "      <td>Single Malt Scotch</td>\n",
              "      <td>88</td>\n",
              "      <td>50.0</td>\n",
              "      <td>$</td>\n",
              "      <td>Lively on the nose for its age (and on the pal...</td>\n",
              "    </tr>\n",
              "    <tr>\n",
              "      <th>1120</th>\n",
              "      <td>1121</td>\n",
              "      <td>Springbank 18 year old, 46%</td>\n",
              "      <td>Single Malt Scotch</td>\n",
              "      <td>88</td>\n",
              "      <td>160.0</td>\n",
              "      <td>$</td>\n",
              "      <td>An elder Lagavulin. Thirty years of oak aging ...</td>\n",
              "    </tr>\n",
              "    <tr>\n",
              "      <th>1192</th>\n",
              "      <td>1193</td>\n",
              "      <td>Compass Box Great King Street Glasgow Blend, 43%</td>\n",
              "      <td>Blended Scotch Whisky</td>\n",
              "      <td>88</td>\n",
              "      <td>45.0</td>\n",
              "      <td>$</td>\n",
              "      <td>Just 279 bottles of this 22 year old single ca...</td>\n",
              "    </tr>\n",
              "    <tr>\n",
              "      <th>1487</th>\n",
              "      <td>1488</td>\n",
              "      <td>Glenrothes Vintage Reserve, 40%</td>\n",
              "      <td>Single Malt Scotch</td>\n",
              "      <td>87</td>\n",
              "      <td>60.0</td>\n",
              "      <td>$</td>\n",
              "      <td>Startlingly herbal. Penetrating, lifted, and a...</td>\n",
              "    </tr>\n",
              "    <tr>\n",
              "      <th>1495</th>\n",
              "      <td>1496</td>\n",
              "      <td>Glen Scotia Victoriana, 51.5%</td>\n",
              "      <td>Single Malt Scotch</td>\n",
              "      <td>87</td>\n",
              "      <td>115.0</td>\n",
              "      <td>$</td>\n",
              "      <td>This single cask 17 year old expression of Ben...</td>\n",
              "    </tr>\n",
              "    <tr>\n",
              "      <th>1504</th>\n",
              "      <td>1505</td>\n",
              "      <td>Benromach 15 year old, 43%</td>\n",
              "      <td>Single Malt Scotch</td>\n",
              "      <td>87</td>\n",
              "      <td>100.0</td>\n",
              "      <td>$</td>\n",
              "      <td>Last year’s was a top-notch, defiantly sherrie...</td>\n",
              "    </tr>\n",
              "    <tr>\n",
              "      <th>1632</th>\n",
              "      <td>1633</td>\n",
              "      <td>Springbank 15 year old, 46%</td>\n",
              "      <td>Single Malt Scotch</td>\n",
              "      <td>86</td>\n",
              "      <td>115.0</td>\n",
              "      <td>$</td>\n",
              "      <td>The latest While We Wait bottling comprises a ...</td>\n",
              "    </tr>\n",
              "    <tr>\n",
              "      <th>1635</th>\n",
              "      <td>1636</td>\n",
              "      <td>Tomintoul 16 year old, 40%</td>\n",
              "      <td>Single Malt Scotch</td>\n",
              "      <td>86</td>\n",
              "      <td>40.0</td>\n",
              "      <td>$</td>\n",
              "      <td>One of anCnoc’s peated expressions, Rascan’s b...</td>\n",
              "    </tr>\n",
              "    <tr>\n",
              "      <th>1742</th>\n",
              "      <td>1743</td>\n",
              "      <td>Aultmore 21 year old, 46%</td>\n",
              "      <td>Single Malt Scotch</td>\n",
              "      <td>86</td>\n",
              "      <td>199.0</td>\n",
              "      <td>$</td>\n",
              "      <td>One of the first releases from the recently fo...</td>\n",
              "    </tr>\n",
              "    <tr>\n",
              "      <th>1768</th>\n",
              "      <td>1769</td>\n",
              "      <td>Glen Scotia 15 year old, 46%</td>\n",
              "      <td>Single Malt Scotch</td>\n",
              "      <td>86</td>\n",
              "      <td>85.0</td>\n",
              "      <td>$</td>\n",
              "      <td>This is the first expression from Glen Garioch...</td>\n",
              "    </tr>\n",
              "    <tr>\n",
              "      <th>1920</th>\n",
              "      <td>1921</td>\n",
              "      <td>Wemyss Malts (distilled at Clynelish) “A Day a...</td>\n",
              "      <td>Single Malt Scotch</td>\n",
              "      <td>85</td>\n",
              "      <td>95.0</td>\n",
              "      <td>$</td>\n",
              "      <td>The newest release in Balvenie’s limited editi...</td>\n",
              "    </tr>\n",
              "    <tr>\n",
              "      <th>1939</th>\n",
              "      <td>1940</td>\n",
              "      <td>Glen Garioch Virgin Oak, 48%</td>\n",
              "      <td>Single Malt Scotch</td>\n",
              "      <td>85</td>\n",
              "      <td>120.0</td>\n",
              "      <td>$</td>\n",
              "      <td>An attempt to replicate the spirit produced at...</td>\n",
              "    </tr>\n",
              "    <tr>\n",
              "      <th>1998</th>\n",
              "      <td>1999</td>\n",
              "      <td>Glen Garioch 1797 Founder’s Reserve, 48%</td>\n",
              "      <td>Single Malt Scotch</td>\n",
              "      <td>85</td>\n",
              "      <td>46.0</td>\n",
              "      <td>$</td>\n",
              "      <td>The nose opens with savory notes. Richer, more...</td>\n",
              "    </tr>\n",
              "    <tr>\n",
              "      <th>2031</th>\n",
              "      <td>2032</td>\n",
              "      <td>Highland Queen Majesty 15 year old, 46%</td>\n",
              "      <td>Single Malt Scotch</td>\n",
              "      <td>85</td>\n",
              "      <td>50.0</td>\n",
              "      <td>$</td>\n",
              "      <td>Here, the distillery character is more restrai...</td>\n",
              "    </tr>\n",
              "    <tr>\n",
              "      <th>2062</th>\n",
              "      <td>2063</td>\n",
              "      <td>Springbank 10 year old, 46%</td>\n",
              "      <td>Single Malt Scotch</td>\n",
              "      <td>84</td>\n",
              "      <td>68.0</td>\n",
              "      <td>$</td>\n",
              "      <td>The black-labeled Carbon relates to heavily ch...</td>\n",
              "    </tr>\n",
              "    <tr>\n",
              "      <th>2078</th>\n",
              "      <td>2079</td>\n",
              "      <td>Auchentoshan 12 year old, 40%</td>\n",
              "      <td>Single Malt Scotch</td>\n",
              "      <td>84</td>\n",
              "      <td>48.0</td>\n",
              "      <td>$</td>\n",
              "      <td>Finished in a pedro ximinez cask. This is the ...</td>\n",
              "    </tr>\n",
              "    <tr>\n",
              "      <th>2088</th>\n",
              "      <td>2089</td>\n",
              "      <td>Tomintoul 14 year old, 46%</td>\n",
              "      <td>Single Malt Scotch</td>\n",
              "      <td>84</td>\n",
              "      <td>54.0</td>\n",
              "      <td>$</td>\n",
              "      <td>What is it with all these older, sherried bott...</td>\n",
              "    </tr>\n",
              "    <tr>\n",
              "      <th>2092</th>\n",
              "      <td>2093</td>\n",
              "      <td>Tomatin 30 year old, 46%</td>\n",
              "      <td>Single Malt Scotch</td>\n",
              "      <td>84</td>\n",
              "      <td>220.0</td>\n",
              "      <td>$</td>\n",
              "      <td>Thick and very tactile. Malty, with good heft....</td>\n",
              "    </tr>\n",
              "    <tr>\n",
              "      <th>2099</th>\n",
              "      <td>2100</td>\n",
              "      <td>Balblair 1989, 43%</td>\n",
              "      <td>Single Malt Scotch</td>\n",
              "      <td>84</td>\n",
              "      <td>94.0</td>\n",
              "      <td>$</td>\n",
              "      <td>Thick barley and viscous, with ever-present br...</td>\n",
              "    </tr>\n",
              "    <tr>\n",
              "      <th>2166</th>\n",
              "      <td>2167</td>\n",
              "      <td>Glen Scotia Double Cask, 46%</td>\n",
              "      <td>Single Malt Scotch</td>\n",
              "      <td>84</td>\n",
              "      <td>58.0</td>\n",
              "      <td>$</td>\n",
              "      <td>In style, this is closest to the 1978 in its l...</td>\n",
              "    </tr>\n",
              "  </tbody>\n",
              "</table>\n",
              "</div>"
            ],
            "text/plain": [
              "        id  ...                                 review_description\n",
              "108    109  ...  \\r\\n\\r\\nLet this whisky glide into your glass ...\n",
              "192    193  ...  Aged in a European oak oloroso sherry hogshead...\n",
              "199    200  ...  Initially matured in bourbon barrels, then tra...\n",
              "202    203  ...  The nose offers canned peach halves in syrup, ...\n",
              "215    216  ...  This presents a mellow bouquet of rich dried f...\n",
              "217    218  ...  The yin to Aberlour A’bunadh’s yang, this cask...\n",
              "231    232  ...  An exceptional blend from first-fill American ...\n",
              "232    233  ...  Perfumed on the nose, with fresh-cut flowers, ...\n",
              "315    316  ...  It rarely gets better than this. Vanilla, almo...\n",
              "324    325  ...  This 42 year old expression was matured in a s...\n",
              "354    355  ...  Sun-bleached driftwood, iodine, curry spices, ...\n",
              "359    360  ...  Slightly oily on the nose, with old leather, g...\n",
              "376    377  ...  This Quinta Ruban succeeds the 12 year old ver...\n",
              "391    392  ...  On the nose, intense fruit underlaid with smok...\n",
              "393    394  ...  The nose is thick with bakeshop aromas: sponge...\n",
              "409    410  ...  This first cask-strength expression in Highlan...\n",
              "510    511  ...  This 23 year old expression was released for t...\n",
              "525    526  ...  This is one of four new additions to the portf...\n",
              "526    527  ...  Complex, elegant textures from the get-go; woo...\n",
              "527    528  ...  Fresh morning blooms in the flower shop, soft ...\n",
              "535    536  ...  This represents House Greyjoy and features its...\n",
              "541    542  ...  Six different cask finishes were used for this...\n",
              "553    554  ...  The first 15 year old release from Talisker, t...\n",
              "615    616  ...  This is not a single-cask bottling like other ...\n",
              "696    697  ...  Deep amber. Big, resinous, and almost heathery...\n",
              "715    716  ...  Having replaced the 16 year old Longmorn with ...\n",
              "717    718  ...  This limited release was aged in seven cask ty...\n",
              "728    729  ...  Part of anCnoc’s Peaty Collection, Cutter has ...\n",
              "774    775  ...  An array of flowers and fruits tumbles from th...\n",
              "788    789  ...  This is the oldest regular bottling from Glenm...\n",
              "809    810  ...  Toiteach A Dhà means ‘smoky two’ in Gaelic and...\n",
              "813    814  ...  GlenDronach is known for its unpeated sherry-m...\n",
              "845    846  ...  Amber with orange and ruby hues. Aromas of Isl...\n",
              "853    854  ...  Mahogany color. Full-bodied, thick and chewy. ...\n",
              "882    883  ...  Part of the “Rarest of the Rare” collection. M...\n",
              "894    895  ...  Soft and gentle (for Caol Ila, that is), thank...\n",
              "1049  1050  ...  This expression replaces the previous 17 year ...\n",
              "1114  1115  ...  Lively on the nose for its age (and on the pal...\n",
              "1120  1121  ...  An elder Lagavulin. Thirty years of oak aging ...\n",
              "1192  1193  ...  Just 279 bottles of this 22 year old single ca...\n",
              "1487  1488  ...  Startlingly herbal. Penetrating, lifted, and a...\n",
              "1495  1496  ...  This single cask 17 year old expression of Ben...\n",
              "1504  1505  ...  Last year’s was a top-notch, defiantly sherrie...\n",
              "1632  1633  ...  The latest While We Wait bottling comprises a ...\n",
              "1635  1636  ...  One of anCnoc’s peated expressions, Rascan’s b...\n",
              "1742  1743  ...  One of the first releases from the recently fo...\n",
              "1768  1769  ...  This is the first expression from Glen Garioch...\n",
              "1920  1921  ...  The newest release in Balvenie’s limited editi...\n",
              "1939  1940  ...  An attempt to replicate the spirit produced at...\n",
              "1998  1999  ...  The nose opens with savory notes. Richer, more...\n",
              "2031  2032  ...  Here, the distillery character is more restrai...\n",
              "2062  2063  ...  The black-labeled Carbon relates to heavily ch...\n",
              "2078  2079  ...  Finished in a pedro ximinez cask. This is the ...\n",
              "2088  2089  ...  What is it with all these older, sherried bott...\n",
              "2092  2093  ...  Thick and very tactile. Malty, with good heft....\n",
              "2099  2100  ...  Thick barley and viscous, with ever-present br...\n",
              "2166  2167  ...  In style, this is closest to the 1978 in its l...\n",
              "\n",
              "[57 rows x 7 columns]"
            ]
          },
          "metadata": {},
          "execution_count": 118
        }
      ]
    },
    {
      "cell_type": "code",
      "metadata": {
        "colab": {
          "base_uri": "https://localhost:8080/"
        },
        "id": "UhFJhtm6gxLD",
        "outputId": "fa196a96-4b43-49ea-d728-129fae1e87a9"
      },
      "source": [
        "# check for duplicate name\n",
        "scotch_dataset['name'].duplicated().sum()"
      ],
      "execution_count": null,
      "outputs": [
        {
          "output_type": "execute_result",
          "data": {
            "text/plain": [
              "57"
            ]
          },
          "metadata": {},
          "execution_count": 119
        }
      ]
    },
    {
      "cell_type": "code",
      "metadata": {
        "id": "DL8usmoDiiiN"
      },
      "source": [
        "# Merge duplicate name with joing the review and taking mean for other columns.\n",
        "scotch_dataset['review.point'] = scotch_dataset.groupby('name')['review.point'].transform('mean')\n",
        "scotch_dataset['price'] = scotch_dataset.groupby('name')['price'].transform('mean')\n",
        "scotch_dataset['review_description'] = scotch_dataset.groupby('name')['review_description'].transform(lambda x: ','.join(x))"
      ],
      "execution_count": null,
      "outputs": []
    },
    {
      "cell_type": "code",
      "metadata": {
        "id": "7gIUSmI5mTSl"
      },
      "source": [
        "# Drop the duplicate columns (keep the first each time)\n",
        "scotch_dataset.drop_duplicates(subset=['name'], keep='first', inplace=True)"
      ],
      "execution_count": null,
      "outputs": []
    },
    {
      "cell_type": "code",
      "metadata": {
        "id": "KlUXtnPOm7dZ"
      },
      "source": [
        "# Extract new features\n",
        "scotch_dataset['alcohol'] = scotch_dataset['name'].str.extract(r\"([\\(\\,\\,\\'\\\"\\’\\”\\$] ? ?\\d+(\\.\\d+)?%)\")[0]\n",
        "scotch_dataset['alcohol'] = scotch_dataset['alcohol'].str.replace(\"[^\\d\\.]\", \"\").astype(float)"
      ],
      "execution_count": null,
      "outputs": []
    },
    {
      "cell_type": "code",
      "metadata": {
        "colab": {
          "base_uri": "https://localhost:8080/"
        },
        "id": "h0zQ8L1iqTnU",
        "outputId": "dcc712ca-26f0-4900-ec3c-a55a3ee080bf"
      },
      "source": [
        "scotch_dataset['alcohol']"
      ],
      "execution_count": null,
      "outputs": [
        {
          "output_type": "execute_result",
          "data": {
            "text/plain": [
              "0       40.5\n",
              "1       42.9\n",
              "2       40.0\n",
              "3       50.8\n",
              "4       45.4\n",
              "        ... \n",
              "2242    46.0\n",
              "2243     NaN\n",
              "2244    50.0\n",
              "2245    40.0\n",
              "2246    55.3\n",
              "Name: alcohol, Length: 2151, dtype: float64"
            ]
          },
          "metadata": {},
          "execution_count": 123
        }
      ]
    },
    {
      "cell_type": "code",
      "metadata": {
        "colab": {
          "base_uri": "https://localhost:8080/"
        },
        "id": "LhN1KAc2h7MT",
        "outputId": "1e657c29-ef2f-4fd1-b282-8afa0484af45"
      },
      "source": [
        "scotch_dataset['alcohol'].isna().sum()"
      ],
      "execution_count": null,
      "outputs": [
        {
          "output_type": "execute_result",
          "data": {
            "text/plain": [
              "10"
            ]
          },
          "metadata": {},
          "execution_count": 124
        }
      ]
    },
    {
      "cell_type": "code",
      "metadata": {
        "id": "ryKZgqyBnLpr"
      },
      "source": [
        "scotch_dataset['alcohol'] = scotch_dataset['alcohol'].fillna(scotch_dataset['alcohol'].mean())"
      ],
      "execution_count": null,
      "outputs": []
    },
    {
      "cell_type": "code",
      "metadata": {
        "colab": {
          "base_uri": "https://localhost:8080/"
        },
        "id": "Ef_f84vxpzpO",
        "outputId": "c4c64252-8cf4-431c-8c57-23bbe90f6887"
      },
      "source": [
        "scotch_dataset.isna().sum()"
      ],
      "execution_count": null,
      "outputs": [
        {
          "output_type": "execute_result",
          "data": {
            "text/plain": [
              "id                    0\n",
              "name                  0\n",
              "category              0\n",
              "review.point          0\n",
              "price                 0\n",
              "currency              0\n",
              "review_description    0\n",
              "alcohol               0\n",
              "dtype: int64"
            ]
          },
          "metadata": {},
          "execution_count": 126
        }
      ]
    },
    {
      "cell_type": "code",
      "metadata": {
        "colab": {
          "base_uri": "https://localhost:8080/",
          "height": 206
        },
        "id": "USQWV3MojS_7",
        "outputId": "7002ada3-f7ba-4eaf-934b-2f5ca1e96033"
      },
      "source": [
        "# price per point\n",
        "scotch_dataset['price_per_point'] = scotch_dataset['price']/scotch_dataset['review.point']\n",
        "scotch_dataset.head()"
      ],
      "execution_count": null,
      "outputs": [
        {
          "output_type": "execute_result",
          "data": {
            "text/html": [
              "<div>\n",
              "<style scoped>\n",
              "    .dataframe tbody tr th:only-of-type {\n",
              "        vertical-align: middle;\n",
              "    }\n",
              "\n",
              "    .dataframe tbody tr th {\n",
              "        vertical-align: top;\n",
              "    }\n",
              "\n",
              "    .dataframe thead th {\n",
              "        text-align: right;\n",
              "    }\n",
              "</style>\n",
              "<table border=\"1\" class=\"dataframe\">\n",
              "  <thead>\n",
              "    <tr style=\"text-align: right;\">\n",
              "      <th></th>\n",
              "      <th>id</th>\n",
              "      <th>name</th>\n",
              "      <th>category</th>\n",
              "      <th>review.point</th>\n",
              "      <th>price</th>\n",
              "      <th>currency</th>\n",
              "      <th>review_description</th>\n",
              "      <th>alcohol</th>\n",
              "      <th>price_per_point</th>\n",
              "    </tr>\n",
              "  </thead>\n",
              "  <tbody>\n",
              "    <tr>\n",
              "      <th>0</th>\n",
              "      <td>1</td>\n",
              "      <td>Black Bowmore 42 year old 1964 vintage, 40.5%</td>\n",
              "      <td>Single Malt Scotch</td>\n",
              "      <td>97.0</td>\n",
              "      <td>4500.0</td>\n",
              "      <td>$</td>\n",
              "      <td>What impresses me most is how this whisky evol...</td>\n",
              "      <td>40.5</td>\n",
              "      <td>46.391753</td>\n",
              "    </tr>\n",
              "    <tr>\n",
              "      <th>1</th>\n",
              "      <td>2</td>\n",
              "      <td>Bowmore 46 year old (distilled 1964), 42.9%</td>\n",
              "      <td>Single Malt Scotch</td>\n",
              "      <td>97.0</td>\n",
              "      <td>13500.0</td>\n",
              "      <td>$</td>\n",
              "      <td>There have been some legendary Bowmores from t...</td>\n",
              "      <td>42.9</td>\n",
              "      <td>139.175258</td>\n",
              "    </tr>\n",
              "    <tr>\n",
              "      <th>2</th>\n",
              "      <td>3</td>\n",
              "      <td>Johnnie Walker Blue Label, 40%</td>\n",
              "      <td>Blended Scotch Whisky</td>\n",
              "      <td>97.0</td>\n",
              "      <td>225.0</td>\n",
              "      <td>$</td>\n",
              "      <td>Magnificently powerful and intense. Caramels, ...</td>\n",
              "      <td>40.0</td>\n",
              "      <td>2.319588</td>\n",
              "    </tr>\n",
              "    <tr>\n",
              "      <th>3</th>\n",
              "      <td>4</td>\n",
              "      <td>Glenlivet Cellar Collection 1969 vintage, 50.8%</td>\n",
              "      <td>Single Malt Scotch</td>\n",
              "      <td>96.0</td>\n",
              "      <td>750.0</td>\n",
              "      <td>$</td>\n",
              "      <td>It’s great that Glenlivet releases whiskies un...</td>\n",
              "      <td>50.8</td>\n",
              "      <td>7.812500</td>\n",
              "    </tr>\n",
              "    <tr>\n",
              "      <th>4</th>\n",
              "      <td>5</td>\n",
              "      <td>The Macallan 29 year old 1976 Vintage (Cask #1...</td>\n",
              "      <td>Single Malt Scotch</td>\n",
              "      <td>96.0</td>\n",
              "      <td>1500.0</td>\n",
              "      <td>$</td>\n",
              "      <td>Classic sherry cask-aged Macallan. Antique amb...</td>\n",
              "      <td>45.4</td>\n",
              "      <td>15.625000</td>\n",
              "    </tr>\n",
              "  </tbody>\n",
              "</table>\n",
              "</div>"
            ],
            "text/plain": [
              "   id  ... price_per_point\n",
              "0   1  ...       46.391753\n",
              "1   2  ...      139.175258\n",
              "2   3  ...        2.319588\n",
              "3   4  ...        7.812500\n",
              "4   5  ...       15.625000\n",
              "\n",
              "[5 rows x 9 columns]"
            ]
          },
          "metadata": {},
          "execution_count": 127
        }
      ]
    },
    {
      "cell_type": "code",
      "metadata": {
        "id": "cHs05SiQrdij"
      },
      "source": [
        "# drop redundant columns\n",
        "scotch_dataset.drop(columns=['currency', 'id'], inplace=True)"
      ],
      "execution_count": null,
      "outputs": []
    },
    {
      "cell_type": "code",
      "metadata": {
        "id": "sPj3q1w9hNig"
      },
      "source": [
        "df = scotch_dataset.copy() "
      ],
      "execution_count": null,
      "outputs": []
    },
    {
      "cell_type": "code",
      "metadata": {
        "colab": {
          "base_uri": "https://localhost:8080/"
        },
        "id": "O1idYMZciM7q",
        "outputId": "861abdb2-7bdc-46dd-c5c6-b65793d0f553"
      },
      "source": [
        "df.shape"
      ],
      "execution_count": null,
      "outputs": [
        {
          "output_type": "execute_result",
          "data": {
            "text/plain": [
              "(2151, 7)"
            ]
          },
          "metadata": {},
          "execution_count": 130
        }
      ]
    },
    {
      "cell_type": "code",
      "metadata": {
        "colab": {
          "base_uri": "https://localhost:8080/",
          "height": 144
        },
        "id": "bXAeggFjr6Il",
        "outputId": "77c074cf-5dda-484c-994b-96a3767c70a0"
      },
      "source": [
        "df.sample(3)"
      ],
      "execution_count": null,
      "outputs": [
        {
          "output_type": "execute_result",
          "data": {
            "text/html": [
              "<div>\n",
              "<style scoped>\n",
              "    .dataframe tbody tr th:only-of-type {\n",
              "        vertical-align: middle;\n",
              "    }\n",
              "\n",
              "    .dataframe tbody tr th {\n",
              "        vertical-align: top;\n",
              "    }\n",
              "\n",
              "    .dataframe thead th {\n",
              "        text-align: right;\n",
              "    }\n",
              "</style>\n",
              "<table border=\"1\" class=\"dataframe\">\n",
              "  <thead>\n",
              "    <tr style=\"text-align: right;\">\n",
              "      <th></th>\n",
              "      <th>name</th>\n",
              "      <th>category</th>\n",
              "      <th>review.point</th>\n",
              "      <th>price</th>\n",
              "      <th>review_description</th>\n",
              "      <th>alcohol</th>\n",
              "      <th>price_per_point</th>\n",
              "    </tr>\n",
              "  </thead>\n",
              "  <tbody>\n",
              "    <tr>\n",
              "      <th>1368</th>\n",
              "      <td>Duncan Taylor 'Rarest of the Rare' (distilled ...</td>\n",
              "      <td>Single Malt Scotch</td>\n",
              "      <td>87.0</td>\n",
              "      <td>215.0</td>\n",
              "      <td>This is the first release of Singleton of Duff...</td>\n",
              "      <td>58.0</td>\n",
              "      <td>2.471264</td>\n",
              "    </tr>\n",
              "    <tr>\n",
              "      <th>1858</th>\n",
              "      <td>Mackillop's Choice 1974 (distilled at Macallan...</td>\n",
              "      <td>Single Malt Scotch</td>\n",
              "      <td>85.0</td>\n",
              "      <td>125.0</td>\n",
              "      <td>A new small-batch addition to the Aberlour lin...</td>\n",
              "      <td>43.0</td>\n",
              "      <td>1.470588</td>\n",
              "    </tr>\n",
              "    <tr>\n",
              "      <th>1323</th>\n",
              "      <td>Tobermory 12 year old, 46.3%</td>\n",
              "      <td>Single Malt Scotch</td>\n",
              "      <td>88.0</td>\n",
              "      <td>57.0</td>\n",
              "      <td>The House Stark bottling is presented with an ...</td>\n",
              "      <td>46.3</td>\n",
              "      <td>0.647727</td>\n",
              "    </tr>\n",
              "  </tbody>\n",
              "</table>\n",
              "</div>"
            ],
            "text/plain": [
              "                                                   name  ... price_per_point\n",
              "1368  Duncan Taylor 'Rarest of the Rare' (distilled ...  ...        2.471264\n",
              "1858  Mackillop's Choice 1974 (distilled at Macallan...  ...        1.470588\n",
              "1323                       Tobermory 12 year old, 46.3%  ...        0.647727\n",
              "\n",
              "[3 rows x 7 columns]"
            ]
          },
          "metadata": {},
          "execution_count": 131
        }
      ]
    },
    {
      "cell_type": "markdown",
      "metadata": {
        "id": "rJwHcTM7sA7E"
      },
      "source": [
        "# EDA"
      ]
    },
    {
      "cell_type": "code",
      "metadata": {
        "id": "LJ7zlYxOsB10",
        "colab": {
          "base_uri": "https://localhost:8080/",
          "height": 425
        },
        "outputId": "dabe9681-08ee-4e8d-d832-92bc9b7f9217"
      },
      "source": [
        "g1 = sns.histplot(data=df, x=\"review.point\",kde=True, discrete = True, color='skyblue')\n",
        "g1.set_title(\"Distribution of Review Point\",\n",
        "                  fontsize=20)\n",
        "\n",
        "#g1.fig.suptitle('Distribution of Whiskey Review Points')\n"
      ],
      "execution_count": null,
      "outputs": [
        {
          "output_type": "execute_result",
          "data": {
            "text/plain": [
              "Text(0.5, 1.0, 'Distribution of Review Point')"
            ]
          },
          "metadata": {},
          "execution_count": 132
        },
        {
          "output_type": "display_data",
          "data": {
            "image/png": "[encoded data removed]",
            "text/plain": [
              "<Figure size 600x400 with 1 Axes>"
            ]
          },
          "metadata": {}
        }
      ]
    },
    {
      "cell_type": "code",
      "metadata": {
        "colab": {
          "base_uri": "https://localhost:8080/",
          "height": 606
        },
        "id": "XykHyPRzvvwl",
        "outputId": "d46d920e-13a1-4c9a-8f9c-d803b5e4b57d"
      },
      "source": [
        "sns.set_palette(\"tab10\")\n",
        "\n",
        "g2 = sns.catplot(x=\"category\", y = 'alcohol', data=df,\n",
        "            kind=\"box\", sym = '', )\n",
        "g2.fig.suptitle(\"Distribution of Alcohol Percentage\",\n",
        "                  fontsize=20, fontdict={\"weight\": \"bold\"})\n",
        "g2.fig.subplots_adjust(top=0.9)\n",
        "g2.set_xticklabels(rotation = 30)\n",
        "g2.set(xlabel = 'Whisky Category', ylabel= 'Alcohol (%)')\n"
      ],
      "execution_count": null,
      "outputs": [
        {
          "output_type": "execute_result",
          "data": {
            "text/plain": [
              "<seaborn.axisgrid.FacetGrid at 0x7fc4e2ea7950>"
            ]
          },
          "metadata": {},
          "execution_count": 133
        },
        {
          "output_type": "display_data",
          "data": {
            "image/png": "[encoded data removed]",
            "text/plain": [
              "<Figure size 500x500 with 1 Axes>"
            ]
          },
          "metadata": {}
        }
      ]
    },
    {
      "cell_type": "code",
      "metadata": {
        "id": "NiWqwYHVvcWp",
        "colab": {
          "base_uri": "https://localhost:8080/",
          "height": 381
        },
        "outputId": "6e464dfc-1895-4a40-e792-2d63a0169f9a"
      },
      "source": [
        "df1 = df.drop(columns=['name', 'category', 'price', 'review_description'])\n",
        "sns.heatmap(df1)"
      ],
      "execution_count": null,
      "outputs": [
        {
          "output_type": "execute_result",
          "data": {
            "text/plain": [
              "<matplotlib.axes._subplots.AxesSubplot at 0x7fc4c09106d0>"
            ]
          },
          "metadata": {},
          "execution_count": 134
        },
        {
          "output_type": "display_data",
          "data": {
            "image/png": "[encoded data removed]",
            "text/plain": [
              "<Figure size 600x400 with 2 Axes>"
            ]
          },
          "metadata": {}
        }
      ]
    },
    {
      "cell_type": "code",
      "metadata": {
        "id": "XoSALD3BxhTc",
        "colab": {
          "base_uri": "https://localhost:8080/"
        },
        "outputId": "e43c5217-4fce-451b-cb3e-44aa3c0440f5"
      },
      "source": [
        "# SweetViz for EDA\n",
        "!pip install sweetviz"
      ],
      "execution_count": null,
      "outputs": [
        {
          "output_type": "stream",
          "name": "stdout",
          "text": [
            "Requirement already satisfied: sweetviz in /usr/local/lib/python3.7/dist-packages (2.1.3)\n",
            "Requirement already satisfied: numpy>=1.16.0 in /usr/local/lib/python3.7/dist-packages (from sweetviz) (1.19.5)\n",
            "Requirement already satisfied: tqdm>=4.43.0 in /usr/local/lib/python3.7/dist-packages (from sweetviz) (4.62.3)\n",
            "Requirement already satisfied: importlib-resources>=1.2.0 in /usr/local/lib/python3.7/dist-packages (from sweetviz) (5.4.0)\n",
            "Requirement already satisfied: scipy>=1.3.2 in /usr/local/lib/python3.7/dist-packages (from sweetviz) (1.4.1)\n",
            "Requirement already satisfied: matplotlib>=3.1.3 in /usr/local/lib/python3.7/dist-packages (from sweetviz) (3.2.2)\n",
            "Requirement already satisfied: pandas!=1.0.0,!=1.0.1,!=1.0.2,>=0.25.3 in /usr/local/lib/python3.7/dist-packages (from sweetviz) (1.1.5)\n",
            "Requirement already satisfied: jinja2>=2.11.1 in /usr/local/lib/python3.7/dist-packages (from sweetviz) (2.11.3)\n",
            "Requirement already satisfied: zipp>=3.1.0 in /usr/local/lib/python3.7/dist-packages (from importlib-resources>=1.2.0->sweetviz) (3.6.0)\n",
            "Requirement already satisfied: MarkupSafe>=0.23 in /usr/local/lib/python3.7/dist-packages (from jinja2>=2.11.1->sweetviz) (2.0.1)\n",
            "Requirement already satisfied: kiwisolver>=1.0.1 in /usr/local/lib/python3.7/dist-packages (from matplotlib>=3.1.3->sweetviz) (1.3.2)\n",
            "Requirement already satisfied: pyparsing!=2.0.4,!=2.1.2,!=2.1.6,>=2.0.1 in /usr/local/lib/python3.7/dist-packages (from matplotlib>=3.1.3->sweetviz) (3.0.6)\n",
            "Requirement already satisfied: python-dateutil>=2.1 in /usr/local/lib/python3.7/dist-packages (from matplotlib>=3.1.3->sweetviz) (2.8.2)\n",
            "Requirement already satisfied: cycler>=0.10 in /usr/local/lib/python3.7/dist-packages (from matplotlib>=3.1.3->sweetviz) (0.11.0)\n",
            "Requirement already satisfied: pytz>=2017.2 in /usr/local/lib/python3.7/dist-packages (from pandas!=1.0.0,!=1.0.1,!=1.0.2,>=0.25.3->sweetviz) (2018.9)\n",
            "Requirement already satisfied: six>=1.5 in /usr/local/lib/python3.7/dist-packages (from python-dateutil>=2.1->matplotlib>=3.1.3->sweetviz) (1.15.0)\n"
          ]
        }
      ]
    },
    {
      "cell_type": "code",
      "metadata": {
        "colab": {
          "base_uri": "https://localhost:8080/",
          "height": 66,
          "referenced_widgets": [
            "3002e946d50949ff8ff439a27e97e415",
            "b371804c03a84636a2c684da38936e3e",
            "de2e9a764f524666be0b45c0a4e8ec6d",
            "0122ed3727ca4ef9b271c73d5cb96523",
            "54b85ce76be44378b2ce2514f7d3b71b",
            "c93a073ce17e4db08a3a50489c234a9d",
            "dea25ddbf37a467e8290978677565438",
            "f94a035a0c56413ba3e09c29557601d8",
            "96f221fb597c4e649cce947d3e6a4dd7",
            "bd60493984ff4582be5fc06c5a9a49e4",
            "1bdbb8777b584c31aabd07f596c237bf"
          ]
        },
        "id": "bPnDjUdz_cD2",
        "outputId": "da42b561-ab2f-4ad2-9f71-5174bd93970f"
      },
      "source": [
        "# importing sweetviz\n",
        "import sweetviz as sv\n",
        "#analyzing the dataset\n",
        "advert_report = sv.analyze(scotch_dataset)\n",
        "#display the report\n",
        "advert_report.show_html('Scotch_Dataset_sweetviz.html')"
      ],
      "execution_count": null,
      "outputs": [
        {
          "output_type": "display_data",
          "data": {
            "application/vnd.jupyter.widget-view+json": {
              "model_id": "3002e946d50949ff8ff439a27e97e415",
              "version_minor": 0,
              "version_major": 2
            },
            "text/plain": [
              "                                             |          | [  0%]   00:00 -> (? left)"
            ]
          },
          "metadata": {}
        },
        {
          "output_type": "stream",
          "name": "stdout",
          "text": [
            "Report Scotch_Dataset_sweetviz.html was generated! NOTEBOOK/COLAB USERS: the web browser MAY not pop up, regardless, the report IS saved in your notebook/colab files.\n"
          ]
        }
      ]
    },
    {
      "cell_type": "code",
      "metadata": {
        "colab": {
          "base_uri": "https://localhost:8080/",
          "height": 520
        },
        "id": "i1j2iQjNBLCy",
        "outputId": "c5a1cb02-c72d-4ab1-9687-a2dc297e45a2"
      },
      "source": [
        "sns.set_style('darkgrid')\n",
        "plt.figure(figsize=(10, 5))\n",
        "plt.suptitle(\"Distribution of Review Points by Category\", fontsize=20, fontdict={\"weight\": \"bold\"})\n",
        "plt.subplots_adjust(top=0.9)\n",
        "plt.xlabel = 'Whisky Category'\n",
        "plt.ylabel= 'Alcohol (%)'\n",
        "sns.boxplot(x=\"category\", y=\"review.point\", data=scotch_dataset)"
      ],
      "execution_count": null,
      "outputs": [
        {
          "output_type": "execute_result",
          "data": {
            "text/plain": [
              "<matplotlib.axes._subplots.AxesSubplot at 0x7fc55d41fa90>"
            ]
          },
          "metadata": {},
          "execution_count": 137
        },
        {
          "output_type": "display_data",
          "data": {
            "image/png": "[encoded data removed]",
            "text/plain": [
              "<Figure size 1000x500 with 1 Axes>"
            ]
          },
          "metadata": {}
        }
      ]
    },
    {
      "cell_type": "code",
      "metadata": {
        "colab": {
          "base_uri": "https://localhost:8080/",
          "height": 520
        },
        "id": "VnAB0CpjDR5x",
        "outputId": "dc9cf5ef-b4cd-4155-b459-2b674cf1f15d"
      },
      "source": [
        "sns.set_style('whitegrid')\n",
        "plt.figure(figsize=(10, 5))\n",
        "plt.suptitle(\"Distribution of Alcohol Percentage by Category\", fontsize=20, fontdict={\"weight\": \"bold\"})\n",
        "sns.boxplot(x=\"category\", y=\"alcohol\", data=scotch_dataset)"
      ],
      "execution_count": null,
      "outputs": [
        {
          "output_type": "execute_result",
          "data": {
            "text/plain": [
              "<matplotlib.axes._subplots.AxesSubplot at 0x7fc55ebfd5d0>"
            ]
          },
          "metadata": {},
          "execution_count": 138
        },
        {
          "output_type": "display_data",
          "data": {
            "image/png": "[encoded data removed]",
            "text/plain": [
              "<Figure size 1000x500 with 1 Axes>"
            ]
          },
          "metadata": {}
        }
      ]
    },
    {
      "cell_type": "code",
      "metadata": {
        "colab": {
          "base_uri": "https://localhost:8080/",
          "height": 528
        },
        "id": "a1WkitRkCdMW",
        "outputId": "3e82fff2-864d-486d-d49c-0fa7a0818e4d"
      },
      "source": [
        "sns.lmplot(x=\"review.point\", y=\"price\",  col=\"category\",hue=\"category\", data=scotch_dataset, height=6)"
      ],
      "execution_count": null,
      "outputs": [
        {
          "output_type": "execute_result",
          "data": {
            "text/plain": [
              "<seaborn.axisgrid.FacetGrid at 0x7fc4e2fd2e90>"
            ]
          },
          "metadata": {},
          "execution_count": 139
        },
        {
          "output_type": "display_data",
          "data": {
            "image/png": "[encoded data removed]",
            "text/plain": [
              "<Figure size 1800x600 with 3 Axes>"
            ]
          },
          "metadata": {}
        }
      ]
    },
    {
      "cell_type": "markdown",
      "metadata": {
        "id": "uvI0gI6s4CF9"
      },
      "source": [
        "Rafikiel's EDA\n",
        "Graph 1: Positive correlation between price and review point"
      ]
    },
    {
      "cell_type": "code",
      "metadata": {
        "colab": {
          "base_uri": "https://localhost:8080/",
          "height": 378
        },
        "id": "_tEbtesJY-Uv",
        "outputId": "8c93c3f4-e792-4bda-8036-2cbe4185982f"
      },
      "source": [
        "p = scotch_dataset.groupby('price')\n",
        "scotch_graph = scotch_dataset.query(\"category == 'Single Malt Scotch'\")\n",
        "g = sns.lineplot(x=\"review.point\", y=\"price\", data=scotch_dataset)\n",
        "g.set_yscale(\"log\")"
      ],
      "execution_count": null,
      "outputs": [
        {
          "output_type": "display_data",
          "data": {
            "image/png": "[encoded data removed]",
            "text/plain": [
              "<Figure size 600x400 with 1 Axes>"
            ]
          },
          "metadata": {}
        }
      ]
    },
    {
      "cell_type": "code",
      "metadata": {
        "colab": {
          "base_uri": "https://localhost:8080/",
          "height": 417
        },
        "id": "TpN7bE6qf2qG",
        "outputId": "d1ed43c9-743f-41f6-dc1a-9e7cb92871d9"
      },
      "source": [
        "\n",
        "v = sns.violinplot(x='category', y='review.point', data=scotch_dataset, pallete = 'Blues')\n",
        "v.set_title('Distribution of Review Points')"
      ],
      "execution_count": null,
      "outputs": [
        {
          "output_type": "execute_result",
          "data": {
            "text/plain": [
              "Text(0.5, 1.0, 'Distribution of Review Points')"
            ]
          },
          "metadata": {},
          "execution_count": 141
        },
        {
          "output_type": "display_data",
          "data": {
            "image/png": "[encoded data removed]",
            "text/plain": [
              "<Figure size 600x400 with 1 Axes>"
            ]
          },
          "metadata": {}
        }
      ]
    },
    {
      "cell_type": "markdown",
      "metadata": {
        "id": "OCJPwpAQkW6m"
      },
      "source": [
        "### EDA - Description field."
      ]
    },
    {
      "cell_type": "code",
      "metadata": {
        "colab": {
          "base_uri": "https://localhost:8080/",
          "height": 112
        },
        "id": "6MsD5rybmQIL",
        "outputId": "1e817ee0-5437-4bef-f27a-d94a98fddc02"
      },
      "source": [
        "df.sample(2)"
      ],
      "execution_count": null,
      "outputs": [
        {
          "output_type": "execute_result",
          "data": {
            "text/html": [
              "<div>\n",
              "<style scoped>\n",
              "    .dataframe tbody tr th:only-of-type {\n",
              "        vertical-align: middle;\n",
              "    }\n",
              "\n",
              "    .dataframe tbody tr th {\n",
              "        vertical-align: top;\n",
              "    }\n",
              "\n",
              "    .dataframe thead th {\n",
              "        text-align: right;\n",
              "    }\n",
              "</style>\n",
              "<table border=\"1\" class=\"dataframe\">\n",
              "  <thead>\n",
              "    <tr style=\"text-align: right;\">\n",
              "      <th></th>\n",
              "      <th>name</th>\n",
              "      <th>category</th>\n",
              "      <th>review.point</th>\n",
              "      <th>price</th>\n",
              "      <th>review_description</th>\n",
              "      <th>alcohol</th>\n",
              "      <th>price_per_point</th>\n",
              "    </tr>\n",
              "  </thead>\n",
              "  <tbody>\n",
              "    <tr>\n",
              "      <th>482</th>\n",
              "      <td>Timorous Beastie 40 year old, 54.7%</td>\n",
              "      <td>Blended Malt Scotch Whisky</td>\n",
              "      <td>91.0</td>\n",
              "      <td>246.0</td>\n",
              "      <td>Non-chill filtered and matured exclusively in ...</td>\n",
              "      <td>54.7</td>\n",
              "      <td>2.703297</td>\n",
              "    </tr>\n",
              "    <tr>\n",
              "      <th>1600</th>\n",
              "      <td>Glen Scotia 10 year old Peated, 50%</td>\n",
              "      <td>Single Malt Scotch</td>\n",
              "      <td>87.0</td>\n",
              "      <td>55.0</td>\n",
              "      <td>And you shall be scotched: vanilla, fudge, era...</td>\n",
              "      <td>50.0</td>\n",
              "      <td>0.632184</td>\n",
              "    </tr>\n",
              "  </tbody>\n",
              "</table>\n",
              "</div>"
            ],
            "text/plain": [
              "                                     name  ... price_per_point\n",
              "482   Timorous Beastie 40 year old, 54.7%  ...        2.703297\n",
              "1600  Glen Scotia 10 year old Peated, 50%  ...        0.632184\n",
              "\n",
              "[2 rows x 7 columns]"
            ]
          },
          "metadata": {},
          "execution_count": 142
        }
      ]
    },
    {
      "cell_type": "code",
      "metadata": {
        "colab": {
          "base_uri": "https://localhost:8080/",
          "height": 144
        },
        "id": "7nKSKpH7kb5q",
        "outputId": "2a05eeff-a6c2-4cfb-c468-24a3f2f1bf10"
      },
      "source": [
        "df_category_review = df.groupby('category').agg({'review_description': 'sum'}).reset_index()\n",
        "df_category_review['text_length'] = df_category_review.review_description.str.split().str.len()\n",
        "df_category_review"
      ],
      "execution_count": null,
      "outputs": [
        {
          "output_type": "execute_result",
          "data": {
            "text/html": [
              "<div>\n",
              "<style scoped>\n",
              "    .dataframe tbody tr th:only-of-type {\n",
              "        vertical-align: middle;\n",
              "    }\n",
              "\n",
              "    .dataframe tbody tr th {\n",
              "        vertical-align: top;\n",
              "    }\n",
              "\n",
              "    .dataframe thead th {\n",
              "        text-align: right;\n",
              "    }\n",
              "</style>\n",
              "<table border=\"1\" class=\"dataframe\">\n",
              "  <thead>\n",
              "    <tr style=\"text-align: right;\">\n",
              "      <th></th>\n",
              "      <th>category</th>\n",
              "      <th>review_description</th>\n",
              "      <th>text_length</th>\n",
              "    </tr>\n",
              "  </thead>\n",
              "  <tbody>\n",
              "    <tr>\n",
              "      <th>0</th>\n",
              "      <td>Blended Malt Scotch Whisky</td>\n",
              "      <td>With a name inspired by a 1926 Buster Keaton m...</td>\n",
              "      <td>11402</td>\n",
              "    </tr>\n",
              "    <tr>\n",
              "      <th>1</th>\n",
              "      <td>Blended Scotch Whisky</td>\n",
              "      <td>Magnificently powerful and intense. Caramels, ...</td>\n",
              "      <td>17154</td>\n",
              "    </tr>\n",
              "    <tr>\n",
              "      <th>2</th>\n",
              "      <td>Single Malt Scotch</td>\n",
              "      <td>What impresses me most is how this whisky evol...</td>\n",
              "      <td>124926</td>\n",
              "    </tr>\n",
              "  </tbody>\n",
              "</table>\n",
              "</div>"
            ],
            "text/plain": [
              "                     category  ... text_length\n",
              "0  Blended Malt Scotch Whisky  ...       11402\n",
              "1       Blended Scotch Whisky  ...       17154\n",
              "2          Single Malt Scotch  ...      124926\n",
              "\n",
              "[3 rows x 3 columns]"
            ]
          },
          "metadata": {},
          "execution_count": 143
        }
      ]
    },
    {
      "cell_type": "code",
      "metadata": {
        "id": "XL2L1nY9oO8P",
        "colab": {
          "base_uri": "https://localhost:8080/",
          "height": 378
        },
        "outputId": "c36e6ba4-6b82-46b6-88b7-5c07478c56bb"
      },
      "source": [
        "sns.set_style('darkgrid')\n",
        "ax = sns.barplot(y=df_category_review['category'], x=df_category_review['text_length'])\n",
        "ax.set(xlabel='Text Length', ylabel='Category')\n",
        "plt.show()"
      ],
      "execution_count": null,
      "outputs": [
        {
          "output_type": "display_data",
          "data": {
            "image/png": "[encoded data removed]",
            "text/plain": [
              "<Figure size 600x400 with 1 Axes>"
            ]
          },
          "metadata": {}
        }
      ]
    },
    {
      "cell_type": "markdown",
      "metadata": {
        "id": "PWingqyWoyQn"
      },
      "source": [
        "**Observation**:\n",
        "Single Malt scotch has the highest review length, followed by Blended Scotch Whishkey and Blended Malt Scotch Whiskey."
      ]
    },
    {
      "cell_type": "code",
      "metadata": {
        "colab": {
          "base_uri": "https://localhost:8080/"
        },
        "id": "QaxdIxXpqNyy",
        "outputId": "c8137ca2-8391-40bc-cc26-487ab595d086"
      },
      "source": [
        " !pip install wordcloud nltk"
      ],
      "execution_count": null,
      "outputs": [
        {
          "output_type": "stream",
          "name": "stdout",
          "text": [
            "Requirement already satisfied: wordcloud in /usr/local/lib/python3.7/dist-packages (1.5.0)\n",
            "Requirement already satisfied: nltk in /usr/local/lib/python3.7/dist-packages (3.2.5)\n",
            "Requirement already satisfied: numpy>=1.6.1 in /usr/local/lib/python3.7/dist-packages (from wordcloud) (1.19.5)\n",
            "Requirement already satisfied: pillow in /usr/local/lib/python3.7/dist-packages (from wordcloud) (7.1.2)\n",
            "Requirement already satisfied: six in /usr/local/lib/python3.7/dist-packages (from nltk) (1.15.0)\n"
          ]
        }
      ]
    },
    {
      "cell_type": "code",
      "metadata": {
        "id": "chNGiQQIqPdc"
      },
      "source": [
        "from wordcloud import WordCloud\n",
        "from PIL import Image\n",
        "import requests"
      ],
      "execution_count": null,
      "outputs": []
    },
    {
      "cell_type": "code",
      "metadata": {
        "id": "Gax1ayo6pD-m",
        "colab": {
          "base_uri": "https://localhost:8080/",
          "height": 482
        },
        "outputId": "7b6ffb1f-846b-4d78-bf46-02b19cb3661f"
      },
      "source": [
        "fig, (ax1, ax2, ax3) = plt.subplots(1, 3, figsize=[14, 14], facecolor = None)\n",
        "\n",
        "x, y = np.ogrid[:300, :300]\n",
        "mask = np.array(Image.open(requests.get('https://imgur.com/upL1TBW.png', stream = True).raw)) \n",
        "\n",
        "wc1 = WordCloud(width = 800, height = 800,background_color=\"white\",min_font_size = 10,\\\n",
        "    repeat=True, mask=mask)\n",
        "wc1.generate(df_category_review['review_description'][0])\n",
        "\n",
        "ax1.axis(\"off\")\n",
        "ax1.imshow(wc1, interpolation=\"bilinear\")\n",
        "ax1.set_title(df_category_review['category'][0],fontsize=15)\n",
        "\n",
        "\n",
        "wc2 = WordCloud(width = 800, height = 800,background_color=\"white\",min_font_size = 10,\\\n",
        "    repeat=True, mask=mask)\n",
        "wc2.generate(df_category_review['review_description'][1])\n",
        "\n",
        "ax2.axis(\"off\")\n",
        "ax2.imshow(wc2, interpolation=\"bilinear\")\n",
        "ax2.set_title(df_category_review['category'][1],fontsize=15);\n",
        "\n",
        "\n",
        "wc3 = WordCloud(width = 800, height = 800,background_color=\"white\",min_font_size = 10,\\\n",
        "    repeat=True, mask=mask)\n",
        "wc3.generate(df_category_review['review_description'][2])\n",
        "\n",
        "ax3.axis(\"off\")\n",
        "ax3.imshow(wc3, interpolation=\"bilinear\")\n",
        "ax3.set_title(df_category_review['category'][2],fontsize=15)\n",
        "\n",
        "plt.show()"
      ],
      "execution_count": null,
      "outputs": [
        {
          "output_type": "display_data",
          "data": {
            "image/png": "[encoded data removed]",
            "text/plain": [
              "<Figure size 1400x1400 with 3 Axes>"
            ]
          },
          "metadata": {}
        }
      ]
    },
    {
      "cell_type": "markdown",
      "metadata": {
        "id": "EjZRNMWrq_Ep"
      },
      "source": [
        "**Observartion**: Most common words for each category."
      ]
    },
    {
      "cell_type": "markdown",
      "metadata": {
        "id": "6u26tltoXq1H"
      },
      "source": [
        "# NLP (TfidfVectorizer) to make clusters"
      ]
    },
    {
      "cell_type": "code",
      "metadata": {
        "colab": {
          "base_uri": "https://localhost:8080/"
        },
        "id": "GhQSATS8tI-v",
        "outputId": "d8df1b27-de0c-4aa1-ed69-c5ade5ef256b"
      },
      "source": [
        "df.sample(2)\n",
        "df.shape"
      ],
      "execution_count": null,
      "outputs": [
        {
          "output_type": "execute_result",
          "data": {
            "text/plain": [
              "(2151, 7)"
            ]
          },
          "metadata": {},
          "execution_count": 148
        }
      ]
    },
    {
      "cell_type": "code",
      "metadata": {
        "id": "-KltBWHwX1bh"
      },
      "source": [
        "from nltk.stem.snowball import SnowballStemmer\n",
        "from nltk.tokenize import RegexpTokenizer\n",
        "from sklearn.feature_extraction.text import TfidfVectorizer\n",
        "\n",
        "snowball = SnowballStemmer('english')\n",
        "tokenizer = RegexpTokenizer(r'[a-zA-Z\\']+')"
      ],
      "execution_count": null,
      "outputs": []
    },
    {
      "cell_type": "code",
      "metadata": {
        "id": "LwMLRHe-r4-a"
      },
      "source": [
        "def tokenize(text):\n",
        "    return [snowball.stem(word) for word in tokenizer.tokenize(text.lower())]"
      ],
      "execution_count": null,
      "outputs": []
    },
    {
      "cell_type": "code",
      "metadata": {
        "colab": {
          "base_uri": "https://localhost:8080/"
        },
        "id": "ted0FIV5sDHf",
        "outputId": "57d49753-1f1e-4828-a43f-0b7fffc813db"
      },
      "source": [
        "tfidf = TfidfVectorizer(stop_words = 'english', tokenizer = tokenize)\n",
        "idf = tfidf.fit_transform(df['review_description'])\n",
        "idf = pd.DataFrame(idf.toarray(), columns=tfidf.get_feature_names_out())"
      ],
      "execution_count": null,
      "outputs": [
        {
          "output_type": "stream",
          "name": "stderr",
          "text": [
            "/usr/local/lib/python3.7/dist-packages/sklearn/feature_extraction/text.py:401: UserWarning: Your stop_words may be inconsistent with your preprocessing. Tokenizing the stop words generated tokens ['abov', 'afterward', 'alon', 'alreadi', 'alway', 'ani', 'anoth', 'anyon', 'anyth', 'anywher', 'becam', 'becaus', 'becom', 'befor', 'besid', 'cri', 'describ', 'dure', 'els', 'elsewher', 'empti', 'everi', 'everyon', 'everyth', 'everywher', 'fifti', 'forti', 'henc', 'hereaft', 'herebi', 'howev', 'hundr', 'inde', 'mani', 'meanwhil', 'moreov', 'nobodi', 'noon', 'noth', 'nowher', 'onc', 'onli', 'otherwis', 'ourselv', 'perhap', 'pleas', 'sever', 'sinc', 'sincer', 'sixti', 'someon', 'someth', 'sometim', 'somewher', 'themselv', 'thenc', 'thereaft', 'therebi', 'therefor', 'togeth', 'twelv', 'twenti', 'veri', 'whatev', 'whenc', 'whenev', 'wherea', 'whereaft', 'wherebi', 'wherev', 'whi', 'yourselv'] not in stop_words.\n",
            "  % sorted(inconsistent)\n"
          ]
        }
      ]
    },
    {
      "cell_type": "code",
      "metadata": {
        "colab": {
          "base_uri": "https://localhost:8080/"
        },
        "id": "_I7Z0rxttRfN",
        "outputId": "747be1b3-e1a7-4210-9eb7-58f2c56d91a6"
      },
      "source": [
        "idf.sample"
      ],
      "execution_count": null,
      "outputs": [
        {
          "output_type": "execute_result",
          "data": {
            "text/plain": [
              "<bound method NDFrame.sample of         '  abandon  abc  abdomen  ...  zinfandel  zing  zingi  zippi\n",
              "0     0.0      0.0  0.0      0.0  ...        0.0   0.0    0.0    0.0\n",
              "1     0.0      0.0  0.0      0.0  ...        0.0   0.0    0.0    0.0\n",
              "2     0.0      0.0  0.0      0.0  ...        0.0   0.0    0.0    0.0\n",
              "3     0.0      0.0  0.0      0.0  ...        0.0   0.0    0.0    0.0\n",
              "4     0.0      0.0  0.0      0.0  ...        0.0   0.0    0.0    0.0\n",
              "...   ...      ...  ...      ...  ...        ...   ...    ...    ...\n",
              "2146  0.0      0.0  0.0      0.0  ...        0.0   0.0    0.0    0.0\n",
              "2147  0.0      0.0  0.0      0.0  ...        0.0   0.0    0.0    0.0\n",
              "2148  0.0      0.0  0.0      0.0  ...        0.0   0.0    0.0    0.0\n",
              "2149  0.0      0.0  0.0      0.0  ...        0.0   0.0    0.0    0.0\n",
              "2150  0.0      0.0  0.0      0.0  ...        0.0   0.0    0.0    0.0\n",
              "\n",
              "[2151 rows x 5667 columns]>"
            ]
          },
          "metadata": {},
          "execution_count": 152
        }
      ]
    },
    {
      "cell_type": "code",
      "metadata": {
        "id": "2cHzsNG6udYN"
      },
      "source": [
        "from umap import UMAP"
      ],
      "execution_count": null,
      "outputs": []
    },
    {
      "cell_type": "code",
      "metadata": {
        "id": "nqD_N9IpuGeX"
      },
      "source": [
        "umap = UMAP(2)\n",
        "u2 = umap.fit_transform(idf)"
      ],
      "execution_count": null,
      "outputs": []
    },
    {
      "cell_type": "code",
      "metadata": {
        "id": "LyNzNWjvuuJE"
      },
      "source": [
        "u2df = pd.DataFrame(u2, columns=[\"e1\", \"e2\"])\n",
        "u2df.reset_index(inplace=True)"
      ],
      "execution_count": null,
      "outputs": []
    },
    {
      "cell_type": "code",
      "metadata": {
        "id": "Jvht8M-Ju9Rs"
      },
      "source": [
        "clustering_dataset = df.copy()\n",
        "clustering_dataset.reset_index(inplace=True)"
      ],
      "execution_count": null,
      "outputs": []
    },
    {
      "cell_type": "code",
      "metadata": {
        "id": "8raVKc6vGCnl"
      },
      "source": [
        "clustering_dataset[\"e1\"] = u2df[\"e1\"]\n",
        "clustering_dataset[\"e2\"] = u2df[\"e2\"]"
      ],
      "execution_count": null,
      "outputs": []
    },
    {
      "cell_type": "code",
      "metadata": {
        "colab": {
          "base_uri": "https://localhost:8080/"
        },
        "id": "kM8UzxXJFRVs",
        "outputId": "5f189c8f-7c6e-47a2-ecae-7079316ef4b6"
      },
      "source": [
        "clustering_dataset.shape"
      ],
      "execution_count": null,
      "outputs": [
        {
          "output_type": "execute_result",
          "data": {
            "text/plain": [
              "(2151, 10)"
            ]
          },
          "metadata": {},
          "execution_count": 158
        }
      ]
    },
    {
      "cell_type": "code",
      "metadata": {
        "id": "jLEbotKrvt6C"
      },
      "source": [
        "clustering_dataset.drop(['review_description'], axis=1, inplace=True)"
      ],
      "execution_count": null,
      "outputs": []
    },
    {
      "cell_type": "code",
      "metadata": {
        "colab": {
          "base_uri": "https://localhost:8080/"
        },
        "id": "U-atNBJ_wpr1",
        "outputId": "a06d19fe-235c-4906-983d-feb73239ebca"
      },
      "source": [
        "clustering_dataset.dtypes"
      ],
      "execution_count": null,
      "outputs": [
        {
          "output_type": "execute_result",
          "data": {
            "text/plain": [
              "index                int64\n",
              "name                object\n",
              "category            object\n",
              "review.point       float64\n",
              "price              float64\n",
              "alcohol            float64\n",
              "price_per_point    float64\n",
              "e1                 float32\n",
              "e2                 float32\n",
              "dtype: object"
            ]
          },
          "metadata": {},
          "execution_count": 160
        }
      ]
    },
    {
      "cell_type": "code",
      "metadata": {
        "colab": {
          "base_uri": "https://localhost:8080/",
          "height": 424
        },
        "id": "uxBXAogAwvnM",
        "outputId": "c22dfdfb-9574-4121-8910-7205c74ecc23"
      },
      "source": [
        "from sklearn.preprocessing import LabelEncoder, OneHotEncoder\n",
        "\n",
        "labelencoder = LabelEncoder()\n",
        "clustering_dataset['category'] = labelencoder.fit_transform(clustering_dataset['category'])\n",
        "pd.DataFrame(OneHotEncoder().fit_transform(clustering_dataset[['category']]).toarray())\n",
        "clustering_dataset"
      ],
      "execution_count": null,
      "outputs": [
        {
          "output_type": "execute_result",
          "data": {
            "text/html": [
              "<div>\n",
              "<style scoped>\n",
              "    .dataframe tbody tr th:only-of-type {\n",
              "        vertical-align: middle;\n",
              "    }\n",
              "\n",
              "    .dataframe tbody tr th {\n",
              "        vertical-align: top;\n",
              "    }\n",
              "\n",
              "    .dataframe thead th {\n",
              "        text-align: right;\n",
              "    }\n",
              "</style>\n",
              "<table border=\"1\" class=\"dataframe\">\n",
              "  <thead>\n",
              "    <tr style=\"text-align: right;\">\n",
              "      <th></th>\n",
              "      <th>index</th>\n",
              "      <th>name</th>\n",
              "      <th>category</th>\n",
              "      <th>review.point</th>\n",
              "      <th>price</th>\n",
              "      <th>alcohol</th>\n",
              "      <th>price_per_point</th>\n",
              "      <th>e1</th>\n",
              "      <th>e2</th>\n",
              "    </tr>\n",
              "  </thead>\n",
              "  <tbody>\n",
              "    <tr>\n",
              "      <th>0</th>\n",
              "      <td>0</td>\n",
              "      <td>Black Bowmore 42 year old 1964 vintage, 40.5%</td>\n",
              "      <td>2</td>\n",
              "      <td>97.0</td>\n",
              "      <td>4500.0</td>\n",
              "      <td>40.500000</td>\n",
              "      <td>46.391753</td>\n",
              "      <td>-3.673874</td>\n",
              "      <td>-3.416388</td>\n",
              "    </tr>\n",
              "    <tr>\n",
              "      <th>1</th>\n",
              "      <td>1</td>\n",
              "      <td>Bowmore 46 year old (distilled 1964), 42.9%</td>\n",
              "      <td>2</td>\n",
              "      <td>97.0</td>\n",
              "      <td>13500.0</td>\n",
              "      <td>42.900000</td>\n",
              "      <td>139.175258</td>\n",
              "      <td>-5.544913</td>\n",
              "      <td>6.420865</td>\n",
              "    </tr>\n",
              "    <tr>\n",
              "      <th>2</th>\n",
              "      <td>2</td>\n",
              "      <td>Johnnie Walker Blue Label, 40%</td>\n",
              "      <td>1</td>\n",
              "      <td>97.0</td>\n",
              "      <td>225.0</td>\n",
              "      <td>40.000000</td>\n",
              "      <td>2.319588</td>\n",
              "      <td>-8.015213</td>\n",
              "      <td>3.783497</td>\n",
              "    </tr>\n",
              "    <tr>\n",
              "      <th>3</th>\n",
              "      <td>3</td>\n",
              "      <td>Glenlivet Cellar Collection 1969 vintage, 50.8%</td>\n",
              "      <td>2</td>\n",
              "      <td>96.0</td>\n",
              "      <td>750.0</td>\n",
              "      <td>50.800000</td>\n",
              "      <td>7.812500</td>\n",
              "      <td>4.738217</td>\n",
              "      <td>2.538945</td>\n",
              "    </tr>\n",
              "    <tr>\n",
              "      <th>4</th>\n",
              "      <td>4</td>\n",
              "      <td>The Macallan 29 year old 1976 Vintage (Cask #1...</td>\n",
              "      <td>2</td>\n",
              "      <td>96.0</td>\n",
              "      <td>1500.0</td>\n",
              "      <td>45.400000</td>\n",
              "      <td>15.625000</td>\n",
              "      <td>-8.586061</td>\n",
              "      <td>0.233448</td>\n",
              "    </tr>\n",
              "    <tr>\n",
              "      <th>...</th>\n",
              "      <td>...</td>\n",
              "      <td>...</td>\n",
              "      <td>...</td>\n",
              "      <td>...</td>\n",
              "      <td>...</td>\n",
              "      <td>...</td>\n",
              "      <td>...</td>\n",
              "      <td>...</td>\n",
              "      <td>...</td>\n",
              "    </tr>\n",
              "    <tr>\n",
              "      <th>2146</th>\n",
              "      <td>2242</td>\n",
              "      <td>BenRiach Sauternes Wood Finish 16 year old, 46%</td>\n",
              "      <td>2</td>\n",
              "      <td>83.0</td>\n",
              "      <td>113.0</td>\n",
              "      <td>46.000000</td>\n",
              "      <td>1.361446</td>\n",
              "      <td>-11.995229</td>\n",
              "      <td>0.605519</td>\n",
              "    </tr>\n",
              "    <tr>\n",
              "      <th>2147</th>\n",
              "      <td>2243</td>\n",
              "      <td>The Macallan Whisky Maker</td>\n",
              "      <td>2</td>\n",
              "      <td>83.0</td>\n",
              "      <td>90.0</td>\n",
              "      <td>47.788622</td>\n",
              "      <td>1.084337</td>\n",
              "      <td>-6.555493</td>\n",
              "      <td>-2.923136</td>\n",
              "    </tr>\n",
              "    <tr>\n",
              "      <th>2148</th>\n",
              "      <td>2244</td>\n",
              "      <td>Arran St. Emilion Wine Cask Finish (Limited Ed...</td>\n",
              "      <td>2</td>\n",
              "      <td>83.0</td>\n",
              "      <td>80.0</td>\n",
              "      <td>50.000000</td>\n",
              "      <td>0.963855</td>\n",
              "      <td>-6.108206</td>\n",
              "      <td>-3.224880</td>\n",
              "    </tr>\n",
              "    <tr>\n",
              "      <th>2149</th>\n",
              "      <td>2245</td>\n",
              "      <td>Smoking Ember, 40%</td>\n",
              "      <td>2</td>\n",
              "      <td>83.0</td>\n",
              "      <td>40.0</td>\n",
              "      <td>40.000000</td>\n",
              "      <td>0.481928</td>\n",
              "      <td>-10.015260</td>\n",
              "      <td>-5.751494</td>\n",
              "    </tr>\n",
              "    <tr>\n",
              "      <th>2150</th>\n",
              "      <td>2246</td>\n",
              "      <td>Teaninich, 1996 vintage, 55.3%</td>\n",
              "      <td>2</td>\n",
              "      <td>83.0</td>\n",
              "      <td>325.0</td>\n",
              "      <td>55.300000</td>\n",
              "      <td>3.915663</td>\n",
              "      <td>14.790170</td>\n",
              "      <td>10.815112</td>\n",
              "    </tr>\n",
              "  </tbody>\n",
              "</table>\n",
              "<p>2151 rows × 9 columns</p>\n",
              "</div>"
            ],
            "text/plain": [
              "      index  ...         e2\n",
              "0         0  ...  -3.416388\n",
              "1         1  ...   6.420865\n",
              "2         2  ...   3.783497\n",
              "3         3  ...   2.538945\n",
              "4         4  ...   0.233448\n",
              "...     ...  ...        ...\n",
              "2146   2242  ...   0.605519\n",
              "2147   2243  ...  -2.923136\n",
              "2148   2244  ...  -3.224880\n",
              "2149   2245  ...  -5.751494\n",
              "2150   2246  ...  10.815112\n",
              "\n",
              "[2151 rows x 9 columns]"
            ]
          },
          "metadata": {},
          "execution_count": 161
        }
      ]
    },
    {
      "cell_type": "code",
      "metadata": {
        "id": "ZyP7EKsmE-Zf"
      },
      "source": [
        "clustering_dataset = clustering_dataset.set_index(\"name\")"
      ],
      "execution_count": null,
      "outputs": []
    },
    {
      "cell_type": "code",
      "metadata": {
        "id": "-mowj3yeBsFW"
      },
      "source": [
        "from sklearn.preprocessing import StandardScaler\n",
        "\n",
        "sc = StandardScaler()\n",
        "clust_data = sc.fit_transform(clustering_dataset)\n",
        "X = pd.DataFrame(clust_data, index=clustering_dataset.index, columns=clustering_dataset.columns)"
      ],
      "execution_count": null,
      "outputs": []
    },
    {
      "cell_type": "markdown",
      "metadata": {
        "id": "m7s5iNDHNM2p"
      },
      "source": [
        "# NLP (SpaCy) to make clusters"
      ]
    },
    {
      "cell_type": "code",
      "metadata": {
        "id": "uQDoYT3hNVPh"
      },
      "source": [
        "# installs\n",
        "# ! pip install -U spacy \n",
        "# ! pip install -U textacy\n",
        "# ! pip install newspaper3k\n",
        "# ! pip install afinn"
      ],
      "execution_count": null,
      "outputs": []
    },
    {
      "cell_type": "code",
      "metadata": {
        "colab": {
          "base_uri": "https://localhost:8080/"
        },
        "id": "smEmU-WjWE1a",
        "outputId": "ef014732-ba47-4c00-f8cd-085ce56f6451"
      },
      "source": [
        "!pip install colorama"
      ],
      "execution_count": null,
      "outputs": [
        {
          "output_type": "stream",
          "name": "stdout",
          "text": [
            "Requirement already satisfied: colorama in /usr/local/lib/python3.7/dist-packages (0.4.4)\n"
          ]
        }
      ]
    },
    {
      "cell_type": "code",
      "metadata": {
        "id": "DZWnMm6_NX9Q"
      },
      "source": [
        "# imports\n",
        "import spacy\n",
        "from spacy import cli\n",
        "from spacy import displacy\n",
        "from spacy.lang.en.stop_words import STOP_WORDS\n",
        "from spacy.lang.en import English\n",
        "\n",
        "import matplotlib.pyplot as plt\n",
        "import seaborn as sns\n",
        "import string\n",
        "from sklearn.base import TransformerMixin\n",
        "from sklearn.feature_extraction.text import TfidfVectorizer, CountVectorizer\n",
        "from sklearn.model_selection import train_test_split\n",
        "from xgboost import XGBClassifier\n",
        "\n",
        "import re\n",
        "from tqdm import tqdm\n",
        "from colorama import Fore, Back, Style"
      ],
      "execution_count": null,
      "outputs": []
    },
    {
      "cell_type": "code",
      "metadata": {
        "colab": {
          "base_uri": "https://localhost:8080/"
        },
        "id": "Rh9aRht9RF3x",
        "outputId": "03fdd4d4-040b-4970-8d0f-8d63f7fabab2"
      },
      "source": [
        "df.sample(2)\n",
        "df.shape"
      ],
      "execution_count": null,
      "outputs": [
        {
          "output_type": "execute_result",
          "data": {
            "text/plain": [
              "(2151, 7)"
            ]
          },
          "metadata": {},
          "execution_count": 167
        }
      ]
    },
    {
      "cell_type": "code",
      "metadata": {
        "id": "a_ZFjQ0LCJX6"
      },
      "source": [
        "text = df.review_description"
      ],
      "execution_count": null,
      "outputs": []
    },
    {
      "cell_type": "code",
      "metadata": {
        "id": "ZFkIyUQjSXEK"
      },
      "source": [
        "from nltk.stem.snowball import SnowballStemmer\n",
        "from nltk.tokenize import RegexpTokenizer\n",
        "\n",
        "snowball = SnowballStemmer('english')\n",
        "tokenizer = RegexpTokenizer(r'[a-zA-Z\\']+')\n",
        "def tokenize(text):\n",
        "    return [snowball.stem(word) for word in tokenizer.tokenize(text.lower())]"
      ],
      "execution_count": null,
      "outputs": []
    },
    {
      "cell_type": "code",
      "metadata": {
        "id": "lwE8FB_eDpj2"
      },
      "source": [
        "nlp = spacy.load('en')\n",
        "def normalize_text(text):\n",
        "    tm1 = re.sub('<pre>.*?</pre>', '', text, flags=re.DOTALL)\n",
        "    tm2 = re.sub('<code>.*?</code>', '', tm1, flags=re.DOTALL)\n",
        "    tm3 = re.sub('<[^>]+>©', '', tm1, flags=re.DOTALL)\n",
        "    return tm3.replace(\"\\n\", \"\")"
      ],
      "execution_count": null,
      "outputs": []
    },
    {
      "cell_type": "code",
      "metadata": {
        "id": "q_0QwrW5YhI3"
      },
      "source": [
        "# Removing code syntax from text \n",
        "df['review_description_cleaned'] = df['review_description'].apply(normalize_text)"
      ],
      "execution_count": null,
      "outputs": []
    },
    {
      "cell_type": "code",
      "metadata": {
        "id": "QyW2ZC-qaqAB"
      },
      "source": [
        "doc = nlp(df[\"review_description_cleaned\"][3])"
      ],
      "execution_count": null,
      "outputs": []
    },
    {
      "cell_type": "code",
      "metadata": {
        "id": "v3hdO4O5a8dZ"
      },
      "source": [
        "review = str(\" \".join([i.lemma_ for i in doc]))"
      ],
      "execution_count": null,
      "outputs": []
    },
    {
      "cell_type": "code",
      "metadata": {
        "colab": {
          "base_uri": "https://localhost:8080/",
          "height": 122
        },
        "id": "cpjnSX-3a9nI",
        "outputId": "9990ceda-dc17-4019-98d0-985ae23c1a95"
      },
      "source": [
        "doc = nlp(review)\n",
        "spacy.displacy.render(doc, style='ent', jupyter=True)"
      ],
      "execution_count": null,
      "outputs": [
        {
          "output_type": "display_data",
          "data": {
            "text/html": [
              "<span class=\"tex2jax_ignore\"><div class=\"entities\" style=\"line-height: 2.5; direction: ltr\">-PRON- ’ great that Glenlivet release whisky under \n",
              "<mark class=\"entity\" style=\"background: #ff8197; padding: 0.45em 0.6em; margin: 0 0.25em; line-height: 1; border-radius: 0.35em;\">\n",
              "    the ' Cellar Collection '\n",
              "    <span style=\"font-size: 0.8em; font-weight: bold; line-height: 1; border-radius: 0.35em; text-transform: uppercase; vertical-align: middle; margin-left: 0.5rem\">LAW</span>\n",
              "</mark>\n",
              " label . -PRON- really show the true potential of Glenlivet . this bottling be classic ultra - matured Glenlivet , and rival the \n",
              "<mark class=\"entity\" style=\"background: #bfe1d9; padding: 0.45em 0.6em; margin: 0 0.25em; line-height: 1; border-radius: 0.35em;\">\n",
              "    1959\n",
              "    <span style=\"font-size: 0.8em; font-weight: bold; line-height: 1; border-radius: 0.35em; text-transform: uppercase; vertical-align: middle; margin-left: 0.5rem\">DATE</span>\n",
              "</mark>\n",
              " vintage \n",
              "<mark class=\"entity\" style=\"background: #bfeeb7; padding: 0.45em 0.6em; margin: 0 0.25em; line-height: 1; border-radius: 0.35em;\">\n",
              "    Cellar Collection\n",
              "    <span style=\"font-size: 0.8em; font-weight: bold; line-height: 1; border-radius: 0.35em; text-transform: uppercase; vertical-align: middle; margin-left: 0.5rem\">PRODUCT</span>\n",
              "</mark>\n",
              " as the good one ever . an incredibly complex whisky , with note of vanilla , ripe barley , coconut , and caramel . all this be accentuate by glaze orange , hazelnut , and a potpourri of dry spice . not the least bit tired for such an aged whisky . ( \n",
              "<mark class=\"entity\" style=\"background: #e4e7d2; padding: 0.45em 0.6em; margin: 0 0.25em; line-height: 1; border-radius: 0.35em;\">\n",
              "    only 800\n",
              "    <span style=\"font-size: 0.8em; font-weight: bold; line-height: 1; border-radius: 0.35em; text-transform: uppercase; vertical-align: middle; margin-left: 0.5rem\">CARDINAL</span>\n",
              "</mark>\n",
              " bottle for the \n",
              "<mark class=\"entity\" style=\"background: #feca74; padding: 0.45em 0.6em; margin: 0 0.25em; line-height: 1; border-radius: 0.35em;\">\n",
              "    U.S.\n",
              "    <span style=\"font-size: 0.8em; font-weight: bold; line-height: 1; border-radius: 0.35em; text-transform: uppercase; vertical-align: middle; margin-left: 0.5rem\">GPE</span>\n",
              "</mark>\n",
              " )</div></span>"
            ],
            "text/plain": [
              "<IPython.core.display.HTML object>"
            ]
          },
          "metadata": {}
        }
      ]
    },
    {
      "cell_type": "code",
      "metadata": {
        "id": "FIfbJSATbGRy"
      },
      "source": [
        "# Part of Speech Tagging\n",
        "import string\n",
        "from spacy.lang.en.stop_words import STOP_WORDS\n",
        "from spacy.lang.en import English\n",
        "punctuations = string.punctuation\n",
        "stopwords = STOP_WORDS"
      ],
      "execution_count": null,
      "outputs": []
    },
    {
      "cell_type": "code",
      "metadata": {
        "colab": {
          "base_uri": "https://localhost:8080/"
        },
        "id": "lKjtCngrbHf3",
        "outputId": "814335f5-9bfd-4723-d7f1-567048eee07d"
      },
      "source": [
        "# POS tagging\n",
        "for i in nlp(review):\n",
        "    print(i, Fore.GREEN + \"=>\",i.pos_)"
      ],
      "execution_count": null,
      "outputs": [
        {
          "output_type": "stream",
          "name": "stdout",
          "text": [
            "-PRON- \u001b[32m=> X\n",
            "’ \u001b[32m=> PUNCT\n",
            "great \u001b[32m=> ADJ\n",
            "that \u001b[32m=> SCONJ\n",
            "Glenlivet \u001b[32m=> PROPN\n",
            "release \u001b[32m=> NOUN\n",
            "whisky \u001b[32m=> NOUN\n",
            "under \u001b[32m=> ADP\n",
            "the \u001b[32m=> DET\n",
            "' \u001b[32m=> PUNCT\n",
            "Cellar \u001b[32m=> PROPN\n",
            "Collection \u001b[32m=> PROPN\n",
            "' \u001b[32m=> PUNCT\n",
            "label \u001b[32m=> NOUN\n",
            ". \u001b[32m=> PUNCT\n",
            "-PRON- \u001b[32m=> PUNCT\n",
            "really \u001b[32m=> ADV\n",
            "show \u001b[32m=> VERB\n",
            "the \u001b[32m=> DET\n",
            "true \u001b[32m=> ADJ\n",
            "potential \u001b[32m=> NOUN\n",
            "of \u001b[32m=> ADP\n",
            "Glenlivet \u001b[32m=> PROPN\n",
            ". \u001b[32m=> PUNCT\n",
            "this \u001b[32m=> DET\n",
            "bottling \u001b[32m=> NOUN\n",
            "be \u001b[32m=> AUX\n",
            "classic \u001b[32m=> ADJ\n",
            "ultra \u001b[32m=> ADV\n",
            "- \u001b[32m=> ADJ\n",
            "matured \u001b[32m=> ADJ\n",
            "Glenlivet \u001b[32m=> PROPN\n",
            ", \u001b[32m=> PUNCT\n",
            "and \u001b[32m=> CCONJ\n",
            "rival \u001b[32m=> VERB\n",
            "the \u001b[32m=> DET\n",
            "1959 \u001b[32m=> NUM\n",
            "vintage \u001b[32m=> NOUN\n",
            "Cellar \u001b[32m=> PROPN\n",
            "Collection \u001b[32m=> PROPN\n",
            "as \u001b[32m=> SCONJ\n",
            "the \u001b[32m=> DET\n",
            "good \u001b[32m=> ADJ\n",
            "one \u001b[32m=> NOUN\n",
            "ever \u001b[32m=> ADV\n",
            ". \u001b[32m=> PUNCT\n",
            "an \u001b[32m=> DET\n",
            "incredibly \u001b[32m=> ADV\n",
            "complex \u001b[32m=> ADJ\n",
            "whisky \u001b[32m=> NOUN\n",
            ", \u001b[32m=> PUNCT\n",
            "with \u001b[32m=> ADP\n",
            "note \u001b[32m=> NOUN\n",
            "of \u001b[32m=> ADP\n",
            "vanilla \u001b[32m=> NOUN\n",
            ", \u001b[32m=> PUNCT\n",
            "ripe \u001b[32m=> ADJ\n",
            "barley \u001b[32m=> PROPN\n",
            ", \u001b[32m=> PUNCT\n",
            "coconut \u001b[32m=> PROPN\n",
            ", \u001b[32m=> PUNCT\n",
            "and \u001b[32m=> CCONJ\n",
            "caramel \u001b[32m=> PROPN\n",
            ". \u001b[32m=> PUNCT\n",
            "all \u001b[32m=> DET\n",
            "this \u001b[32m=> DET\n",
            "be \u001b[32m=> AUX\n",
            "accentuate \u001b[32m=> VERB\n",
            "by \u001b[32m=> ADP\n",
            "glaze \u001b[32m=> PROPN\n",
            "orange \u001b[32m=> PROPN\n",
            ", \u001b[32m=> PUNCT\n",
            "hazelnut \u001b[32m=> PROPN\n",
            ", \u001b[32m=> PUNCT\n",
            "and \u001b[32m=> CCONJ\n",
            "a \u001b[32m=> DET\n",
            "potpourri \u001b[32m=> NOUN\n",
            "of \u001b[32m=> ADP\n",
            "dry \u001b[32m=> ADJ\n",
            "spice \u001b[32m=> NOUN\n",
            ". \u001b[32m=> PUNCT\n",
            "not \u001b[32m=> PART\n",
            "the \u001b[32m=> DET\n",
            "least \u001b[32m=> ADJ\n",
            "bit \u001b[32m=> NOUN\n",
            "tired \u001b[32m=> ADJ\n",
            "for \u001b[32m=> ADP\n",
            "such \u001b[32m=> DET\n",
            "an \u001b[32m=> DET\n",
            "aged \u001b[32m=> ADJ\n",
            "whisky \u001b[32m=> NOUN\n",
            ". \u001b[32m=> PUNCT\n",
            "( \u001b[32m=> PUNCT\n",
            "only \u001b[32m=> ADV\n",
            "800 \u001b[32m=> NUM\n",
            "bottle \u001b[32m=> NOUN\n",
            "for \u001b[32m=> ADP\n",
            "the \u001b[32m=> DET\n",
            "U.S. \u001b[32m=> PROPN\n",
            ") \u001b[32m=> PUNCT\n"
          ]
        }
      ]
    },
    {
      "cell_type": "code",
      "metadata": {
        "id": "P3gTQpXnbK2N"
      },
      "source": [
        "# Parser for reviews\n",
        "parser = English()\n",
        "def spacy_tokenizer(sentence):\n",
        "    mytokens = parser(sentence)\n",
        "    mytokens = [ word.lemma_.lower().strip() if word.lemma_ != \"-PRON-\" else word.lower_ for word in mytokens ]\n",
        "    mytokens = [ word for word in mytokens if word not in stopwords and word not in punctuations ]\n",
        "    mytokens = \" \".join([i for i in mytokens])\n",
        "    return mytokens"
      ],
      "execution_count": null,
      "outputs": []
    },
    {
      "cell_type": "code",
      "metadata": {
        "colab": {
          "base_uri": "https://localhost:8080/"
        },
        "id": "ExCIcBGcbemI",
        "outputId": "af1f1f48-59c5-4660-dfc6-66192beff581"
      },
      "source": [
        "!pip install tqdm"
      ],
      "execution_count": null,
      "outputs": [
        {
          "output_type": "stream",
          "name": "stdout",
          "text": [
            "Requirement already satisfied: tqdm in /usr/local/lib/python3.7/dist-packages (4.62.3)\n"
          ]
        }
      ]
    },
    {
      "cell_type": "code",
      "metadata": {
        "colab": {
          "base_uri": "https://localhost:8080/"
        },
        "id": "ZUqWFfiGbPXD",
        "outputId": "4ab9dc7a-4b47-43e8-bf62-6d5b1ef3a26a"
      },
      "source": [
        "tqdm.pandas()\n",
        "df[\"processed_description\"] = df[\"review_description_cleaned\"].progress_apply(spacy_tokenizer)"
      ],
      "execution_count": null,
      "outputs": [
        {
          "output_type": "stream",
          "name": "stderr",
          "text": [
            "100%|██████████| 2151/2151 [00:01<00:00, 1396.41it/s]\n"
          ]
        }
      ]
    },
    {
      "cell_type": "code",
      "metadata": {
        "id": "1srb6HmWbm9E"
      },
      "source": [
        "# Topic Modeling\n",
        "# Creating a vectorizer\n",
        "from sklearn.feature_extraction.text import CountVectorizer\n",
        "vectorizer = CountVectorizer(min_df=5, max_df=0.9, stop_words='english', lowercase=True, token_pattern='[a-zA-Z\\-][a-zA-Z\\-]{2,}')\n",
        "data_vectorized = vectorizer.fit_transform(df[\"processed_description\"])\n",
        "data_vectorized = pd.DataFrame(data_vectorized.toarray(), columns=vectorizer.get_feature_names_out())"
      ],
      "execution_count": null,
      "outputs": []
    },
    {
      "cell_type": "code",
      "metadata": {
        "colab": {
          "base_uri": "https://localhost:8080/"
        },
        "id": "ZWmSWwl5N4LY",
        "outputId": "b492d8a9-3ef9-4b41-fe4b-fa145ef56814"
      },
      "source": [
        "data_vectorized.sample"
      ],
      "execution_count": null,
      "outputs": [
        {
          "output_type": "execute_result",
          "data": {
            "text/plain": [
              "<bound method NDFrame.sample of       aberdeenshire  aberfeldy  aberlour  abv  ...  zest  zesty  zing  zingy\n",
              "0                 0          0         0    0  ...     0      0     0      0\n",
              "1                 0          0         0    0  ...     0      0     0      0\n",
              "2                 0          0         0    0  ...     0      0     0      0\n",
              "3                 0          0         0    0  ...     0      0     0      0\n",
              "4                 0          0         0    0  ...     0      0     0      0\n",
              "...             ...        ...       ...  ...  ...   ...    ...   ...    ...\n",
              "2146              0          0         0    0  ...     0      0     0      0\n",
              "2147              0          0         0    0  ...     0      0     0      0\n",
              "2148              0          0         0    0  ...     0      0     0      0\n",
              "2149              0          0         0    0  ...     0      0     0      0\n",
              "2150              0          0         0    0  ...     0      0     0      0\n",
              "\n",
              "[2151 rows x 2178 columns]>"
            ]
          },
          "metadata": {},
          "execution_count": 181
        }
      ]
    },
    {
      "cell_type": "code",
      "metadata": {
        "id": "OCKuyp7CNi07"
      },
      "source": [
        "from umap import UMAP"
      ],
      "execution_count": null,
      "outputs": []
    },
    {
      "cell_type": "code",
      "metadata": {
        "id": "ZGKZk0ctOGEb"
      },
      "source": [
        "umap = UMAP(2)\n",
        "u2 = umap.fit_transform(data_vectorized)"
      ],
      "execution_count": null,
      "outputs": []
    },
    {
      "cell_type": "code",
      "metadata": {
        "id": "72Fcs0uAON5k"
      },
      "source": [
        "u2df = pd.DataFrame(u2, columns=[\"e1\", \"e2\"])\n",
        "u2df.reset_index(inplace=True)"
      ],
      "execution_count": null,
      "outputs": []
    },
    {
      "cell_type": "code",
      "metadata": {
        "id": "TQ8qnqbqOXen"
      },
      "source": [
        "clustering_dataset = df.copy()\n",
        "clustering_dataset.reset_index(inplace=True)"
      ],
      "execution_count": null,
      "outputs": []
    },
    {
      "cell_type": "code",
      "metadata": {
        "id": "jaE5xV0mQsQS"
      },
      "source": [
        "clustering_dataset[\"e1\"] = u2df[\"e1\"]\n",
        "clustering_dataset[\"e2\"] = u2df[\"e2\"]"
      ],
      "execution_count": null,
      "outputs": []
    },
    {
      "cell_type": "code",
      "metadata": {
        "colab": {
          "base_uri": "https://localhost:8080/"
        },
        "id": "tTSshthBQxLR",
        "outputId": "2b47cbd9-f897-45e1-b91b-8969d6d88fee"
      },
      "source": [
        "clustering_dataset.shape"
      ],
      "execution_count": null,
      "outputs": [
        {
          "output_type": "execute_result",
          "data": {
            "text/plain": [
              "(2151, 12)"
            ]
          },
          "metadata": {},
          "execution_count": 187
        }
      ]
    },
    {
      "cell_type": "code",
      "metadata": {
        "id": "ECS9GRZMQ2_r"
      },
      "source": [
        "clustering_dataset.drop(['review_description'], axis=1, inplace=True)\n",
        "clustering_dataset.drop(['review_description_cleaned'], axis=1, inplace=True)\n",
        "clustering_dataset.drop(['processed_description'], axis=1, inplace=True)"
      ],
      "execution_count": null,
      "outputs": []
    },
    {
      "cell_type": "code",
      "metadata": {
        "colab": {
          "base_uri": "https://localhost:8080/"
        },
        "id": "oevN4d8JQ619",
        "outputId": "10c9d068-6b18-47ee-d922-737f762e7a92"
      },
      "source": [
        "clustering_dataset.dtypes"
      ],
      "execution_count": null,
      "outputs": [
        {
          "output_type": "execute_result",
          "data": {
            "text/plain": [
              "index                int64\n",
              "name                object\n",
              "category            object\n",
              "review.point       float64\n",
              "price              float64\n",
              "alcohol            float64\n",
              "price_per_point    float64\n",
              "e1                 float32\n",
              "e2                 float32\n",
              "dtype: object"
            ]
          },
          "metadata": {},
          "execution_count": 189
        }
      ]
    },
    {
      "cell_type": "code",
      "metadata": {
        "colab": {
          "base_uri": "https://localhost:8080/",
          "height": 424
        },
        "id": "kOaROrzCRNvu",
        "outputId": "c85916e9-97ca-491e-d0cd-0299e310ae4a"
      },
      "source": [
        "from sklearn.preprocessing import LabelEncoder, OneHotEncoder\n",
        "\n",
        "labelencoder = LabelEncoder()\n",
        "clustering_dataset['category'] = labelencoder.fit_transform(clustering_dataset['category'])\n",
        "pd.DataFrame(OneHotEncoder().fit_transform(clustering_dataset[['category']]).toarray())\n",
        "clustering_dataset"
      ],
      "execution_count": null,
      "outputs": [
        {
          "output_type": "execute_result",
          "data": {
            "text/html": [
              "<div>\n",
              "<style scoped>\n",
              "    .dataframe tbody tr th:only-of-type {\n",
              "        vertical-align: middle;\n",
              "    }\n",
              "\n",
              "    .dataframe tbody tr th {\n",
              "        vertical-align: top;\n",
              "    }\n",
              "\n",
              "    .dataframe thead th {\n",
              "        text-align: right;\n",
              "    }\n",
              "</style>\n",
              "<table border=\"1\" class=\"dataframe\">\n",
              "  <thead>\n",
              "    <tr style=\"text-align: right;\">\n",
              "      <th></th>\n",
              "      <th>index</th>\n",
              "      <th>name</th>\n",
              "      <th>category</th>\n",
              "      <th>review.point</th>\n",
              "      <th>price</th>\n",
              "      <th>alcohol</th>\n",
              "      <th>price_per_point</th>\n",
              "      <th>e1</th>\n",
              "      <th>e2</th>\n",
              "    </tr>\n",
              "  </thead>\n",
              "  <tbody>\n",
              "    <tr>\n",
              "      <th>0</th>\n",
              "      <td>0</td>\n",
              "      <td>Black Bowmore 42 year old 1964 vintage, 40.5%</td>\n",
              "      <td>2</td>\n",
              "      <td>97.0</td>\n",
              "      <td>4500.0</td>\n",
              "      <td>40.500000</td>\n",
              "      <td>46.391753</td>\n",
              "      <td>0.233444</td>\n",
              "      <td>1.513388</td>\n",
              "    </tr>\n",
              "    <tr>\n",
              "      <th>1</th>\n",
              "      <td>1</td>\n",
              "      <td>Bowmore 46 year old (distilled 1964), 42.9%</td>\n",
              "      <td>2</td>\n",
              "      <td>97.0</td>\n",
              "      <td>13500.0</td>\n",
              "      <td>42.900000</td>\n",
              "      <td>139.175258</td>\n",
              "      <td>-0.944987</td>\n",
              "      <td>-3.124998</td>\n",
              "    </tr>\n",
              "    <tr>\n",
              "      <th>2</th>\n",
              "      <td>2</td>\n",
              "      <td>Johnnie Walker Blue Label, 40%</td>\n",
              "      <td>1</td>\n",
              "      <td>97.0</td>\n",
              "      <td>225.0</td>\n",
              "      <td>40.000000</td>\n",
              "      <td>2.319588</td>\n",
              "      <td>4.926933</td>\n",
              "      <td>-0.610755</td>\n",
              "    </tr>\n",
              "    <tr>\n",
              "      <th>3</th>\n",
              "      <td>3</td>\n",
              "      <td>Glenlivet Cellar Collection 1969 vintage, 50.8%</td>\n",
              "      <td>2</td>\n",
              "      <td>96.0</td>\n",
              "      <td>750.0</td>\n",
              "      <td>50.800000</td>\n",
              "      <td>7.812500</td>\n",
              "      <td>0.292551</td>\n",
              "      <td>1.399706</td>\n",
              "    </tr>\n",
              "    <tr>\n",
              "      <th>4</th>\n",
              "      <td>4</td>\n",
              "      <td>The Macallan 29 year old 1976 Vintage (Cask #1...</td>\n",
              "      <td>2</td>\n",
              "      <td>96.0</td>\n",
              "      <td>1500.0</td>\n",
              "      <td>45.400000</td>\n",
              "      <td>15.625000</td>\n",
              "      <td>10.984725</td>\n",
              "      <td>-2.005265</td>\n",
              "    </tr>\n",
              "    <tr>\n",
              "      <th>...</th>\n",
              "      <td>...</td>\n",
              "      <td>...</td>\n",
              "      <td>...</td>\n",
              "      <td>...</td>\n",
              "      <td>...</td>\n",
              "      <td>...</td>\n",
              "      <td>...</td>\n",
              "      <td>...</td>\n",
              "      <td>...</td>\n",
              "    </tr>\n",
              "    <tr>\n",
              "      <th>2146</th>\n",
              "      <td>2242</td>\n",
              "      <td>BenRiach Sauternes Wood Finish 16 year old, 46%</td>\n",
              "      <td>2</td>\n",
              "      <td>83.0</td>\n",
              "      <td>113.0</td>\n",
              "      <td>46.000000</td>\n",
              "      <td>1.361446</td>\n",
              "      <td>6.367056</td>\n",
              "      <td>2.362271</td>\n",
              "    </tr>\n",
              "    <tr>\n",
              "      <th>2147</th>\n",
              "      <td>2243</td>\n",
              "      <td>The Macallan Whisky Maker</td>\n",
              "      <td>2</td>\n",
              "      <td>83.0</td>\n",
              "      <td>90.0</td>\n",
              "      <td>47.788622</td>\n",
              "      <td>1.084337</td>\n",
              "      <td>-11.603150</td>\n",
              "      <td>2.353169</td>\n",
              "    </tr>\n",
              "    <tr>\n",
              "      <th>2148</th>\n",
              "      <td>2244</td>\n",
              "      <td>Arran St. Emilion Wine Cask Finish (Limited Ed...</td>\n",
              "      <td>2</td>\n",
              "      <td>83.0</td>\n",
              "      <td>80.0</td>\n",
              "      <td>50.000000</td>\n",
              "      <td>0.963855</td>\n",
              "      <td>-0.679902</td>\n",
              "      <td>1.054483</td>\n",
              "    </tr>\n",
              "    <tr>\n",
              "      <th>2149</th>\n",
              "      <td>2245</td>\n",
              "      <td>Smoking Ember, 40%</td>\n",
              "      <td>2</td>\n",
              "      <td>83.0</td>\n",
              "      <td>40.0</td>\n",
              "      <td>40.000000</td>\n",
              "      <td>0.481928</td>\n",
              "      <td>-0.758888</td>\n",
              "      <td>1.036185</td>\n",
              "    </tr>\n",
              "    <tr>\n",
              "      <th>2150</th>\n",
              "      <td>2246</td>\n",
              "      <td>Teaninich, 1996 vintage, 55.3%</td>\n",
              "      <td>2</td>\n",
              "      <td>83.0</td>\n",
              "      <td>325.0</td>\n",
              "      <td>55.300000</td>\n",
              "      <td>3.915663</td>\n",
              "      <td>-4.962766</td>\n",
              "      <td>-0.811930</td>\n",
              "    </tr>\n",
              "  </tbody>\n",
              "</table>\n",
              "<p>2151 rows × 9 columns</p>\n",
              "</div>"
            ],
            "text/plain": [
              "      index  ...        e2\n",
              "0         0  ...  1.513388\n",
              "1         1  ... -3.124998\n",
              "2         2  ... -0.610755\n",
              "3         3  ...  1.399706\n",
              "4         4  ... -2.005265\n",
              "...     ...  ...       ...\n",
              "2146   2242  ...  2.362271\n",
              "2147   2243  ...  2.353169\n",
              "2148   2244  ...  1.054483\n",
              "2149   2245  ...  1.036185\n",
              "2150   2246  ... -0.811930\n",
              "\n",
              "[2151 rows x 9 columns]"
            ]
          },
          "metadata": {},
          "execution_count": 190
        }
      ]
    },
    {
      "cell_type": "code",
      "metadata": {
        "id": "YbipQvRmROup"
      },
      "source": [
        "clustering_dataset = clustering_dataset.set_index(\"name\")"
      ],
      "execution_count": null,
      "outputs": []
    },
    {
      "cell_type": "code",
      "metadata": {
        "id": "rMdRUlFERSN6"
      },
      "source": [
        "from sklearn.preprocessing import StandardScaler\n",
        "\n",
        "sc = StandardScaler()\n",
        "clust_data = sc.fit_transform(clustering_dataset)\n",
        "X = pd.DataFrame(clust_data, index=clustering_dataset.index, columns=clustering_dataset.columns)"
      ],
      "execution_count": null,
      "outputs": []
    },
    {
      "cell_type": "markdown",
      "metadata": {
        "id": "5Ha5YiDrN067"
      },
      "source": [
        "# K-Mean"
      ]
    },
    {
      "cell_type": "code",
      "metadata": {
        "id": "xZCcqH9fNxys"
      },
      "source": [
        "from sklearn.cluster import KMeans\n",
        "from sklearn.metrics import silhouette_samples, silhouette_score\n",
        "\n",
        "inertia = []\n",
        "silhouette = []\n",
        "for i in range(2,10):\n",
        "    kmeans = KMeans(i, random_state=820)\n",
        "    kmeans.fit(X)\n",
        "    kmeans_lab = kmeans.predict(X)\n",
        "    inertia.append(kmeans.inertia_)\n",
        "    silhouette.append(silhouette_score(X, kmeans_lab))"
      ],
      "execution_count": null,
      "outputs": []
    },
    {
      "cell_type": "code",
      "metadata": {
        "colab": {
          "base_uri": "https://localhost:8080/",
          "height": 545
        },
        "id": "sEqWWt1COK-x",
        "outputId": "3c4b22bf-cf99-4c76-9464-2726487d9200"
      },
      "source": [
        "plt.figure(figsize=(15,5))\n",
        "\n",
        "\n",
        "plt.subplot(1, 2, 1)\n",
        "plt.title(\"Inertia\")\n",
        "sns.lineplot(range(2,10), inertia)\n",
        "\n",
        "plt.subplot(1, 2, 2)\n",
        "plt.title(\"Silohouette Score\")\n",
        "sns.lineplot(range(2,10), silhouette)\n",
        "\n",
        "plt.show()"
      ],
      "execution_count": null,
      "outputs": [
        {
          "output_type": "stream",
          "name": "stderr",
          "text": [
            "/usr/local/lib/python3.7/dist-packages/seaborn/_decorators.py:43: FutureWarning: Pass the following variables as keyword args: x, y. From version 0.12, the only valid positional argument will be `data`, and passing other arguments without an explicit keyword will result in an error or misinterpretation.\n",
            "  FutureWarning\n",
            "/usr/local/lib/python3.7/dist-packages/seaborn/_decorators.py:43: FutureWarning: Pass the following variables as keyword args: x, y. From version 0.12, the only valid positional argument will be `data`, and passing other arguments without an explicit keyword will result in an error or misinterpretation.\n",
            "  FutureWarning\n"
          ]
        },
        {
          "output_type": "display_data",
          "data": {
            "image/png": "[encoded data removed]",
            "text/plain": [
              "<Figure size 1500x500 with 2 Axes>"
            ]
          },
          "metadata": {}
        }
      ]
    },
    {
      "cell_type": "code",
      "metadata": {
        "id": "udrtgtBTOPm4"
      },
      "source": [
        "k = KMeans(5, random_state=820)\n",
        "k.fit(X)\n",
        "k_labs = k.predict(X)\n",
        "df[\"kmean_cluster\"] = k_labs"
      ],
      "execution_count": null,
      "outputs": []
    },
    {
      "cell_type": "code",
      "metadata": {
        "colab": {
          "base_uri": "https://localhost:8080/"
        },
        "id": "Xq-EMRaMOy23",
        "outputId": "099dd103-bcd3-4596-ab7e-e905d7a57b50"
      },
      "source": [
        "df['kmean_cluster'].value_counts()"
      ],
      "execution_count": null,
      "outputs": [
        {
          "output_type": "execute_result",
          "data": {
            "text/plain": [
              "0    970\n",
              "4    830\n",
              "2    321\n",
              "3     29\n",
              "1      1\n",
              "Name: kmean_cluster, dtype: int64"
            ]
          },
          "metadata": {},
          "execution_count": 201
        }
      ]
    },
    {
      "cell_type": "code",
      "metadata": {
        "colab": {
          "base_uri": "https://localhost:8080/",
          "height": 237
        },
        "id": "NdNsvsgXS0db",
        "outputId": "104181fc-1556-42bb-fb74-3325fc7fb885"
      },
      "source": [
        "profile = df.groupby('kmean_cluster').mean()\n",
        "profile"
      ],
      "execution_count": null,
      "outputs": [
        {
          "output_type": "execute_result",
          "data": {
            "text/html": [
              "<div>\n",
              "<style scoped>\n",
              "    .dataframe tbody tr th:only-of-type {\n",
              "        vertical-align: middle;\n",
              "    }\n",
              "\n",
              "    .dataframe tbody tr th {\n",
              "        vertical-align: top;\n",
              "    }\n",
              "\n",
              "    .dataframe thead th {\n",
              "        text-align: right;\n",
              "    }\n",
              "</style>\n",
              "<table border=\"1\" class=\"dataframe\">\n",
              "  <thead>\n",
              "    <tr style=\"text-align: right;\">\n",
              "      <th></th>\n",
              "      <th>review.point</th>\n",
              "      <th>price</th>\n",
              "      <th>alcohol</th>\n",
              "      <th>price_per_point</th>\n",
              "    </tr>\n",
              "    <tr>\n",
              "      <th>kmean_cluster</th>\n",
              "      <th></th>\n",
              "      <th></th>\n",
              "      <th></th>\n",
              "      <th></th>\n",
              "    </tr>\n",
              "  </thead>\n",
              "  <tbody>\n",
              "    <tr>\n",
              "      <th>0</th>\n",
              "      <td>85.923196</td>\n",
              "      <td>195.218041</td>\n",
              "      <td>47.032961</td>\n",
              "      <td>2.268424</td>\n",
              "    </tr>\n",
              "    <tr>\n",
              "      <th>1</th>\n",
              "      <td>93.000000</td>\n",
              "      <td>157000.000000</td>\n",
              "      <td>42.500000</td>\n",
              "      <td>1688.172043</td>\n",
              "    </tr>\n",
              "    <tr>\n",
              "      <th>2</th>\n",
              "      <td>89.636293</td>\n",
              "      <td>220.592679</td>\n",
              "      <td>44.728660</td>\n",
              "      <td>2.416333</td>\n",
              "    </tr>\n",
              "    <tr>\n",
              "      <th>3</th>\n",
              "      <td>91.551724</td>\n",
              "      <td>26025.344828</td>\n",
              "      <td>47.824138</td>\n",
              "      <td>286.414695</td>\n",
              "    </tr>\n",
              "    <tr>\n",
              "      <th>4</th>\n",
              "      <td>90.764659</td>\n",
              "      <td>597.418474</td>\n",
              "      <td>49.860307</td>\n",
              "      <td>6.511934</td>\n",
              "    </tr>\n",
              "  </tbody>\n",
              "</table>\n",
              "</div>"
            ],
            "text/plain": [
              "               review.point          price    alcohol  price_per_point\n",
              "kmean_cluster                                                         \n",
              "0                 85.923196     195.218041  47.032961         2.268424\n",
              "1                 93.000000  157000.000000  42.500000      1688.172043\n",
              "2                 89.636293     220.592679  44.728660         2.416333\n",
              "3                 91.551724   26025.344828  47.824138       286.414695\n",
              "4                 90.764659     597.418474  49.860307         6.511934"
            ]
          },
          "metadata": {},
          "execution_count": 202
        }
      ]
    },
    {
      "cell_type": "code",
      "metadata": {
        "colab": {
          "base_uri": "https://localhost:8080/",
          "height": 528
        },
        "id": "BhrwbXQkS_fJ",
        "outputId": "3d0b065e-ca8e-429f-bfdf-921ad16e8be2"
      },
      "source": [
        "# heatmap\n",
        "sc = StandardScaler()\n",
        "profile_scaled = sc.fit_transform(profile)\n",
        "\n",
        "plt.figure(figsize=(12, 6))\n",
        "pal = sns.color_palette(\"flare\", as_cmap=True)\n",
        "sns.heatmap(profile_scaled, center=0, cmap=pal, xticklabels=profile.columns)"
      ],
      "execution_count": null,
      "outputs": [
        {
          "output_type": "execute_result",
          "data": {
            "text/plain": [
              "<matplotlib.axes._subplots.AxesSubplot at 0x7fc4bf8bc790>"
            ]
          },
          "metadata": {},
          "execution_count": 204
        },
        {
          "output_type": "display_data",
          "data": {
            "image/png": "[encoded data removed]",
            "text/plain": [
              "<Figure size 1200x600 with 2 Axes>"
            ]
          },
          "metadata": {}
        }
      ]
    },
    {
      "cell_type": "code",
      "metadata": {
        "id": "7YTd6pvANEta"
      },
      "source": [
        ""
      ],
      "execution_count": null,
      "outputs": []
    },
    {
      "cell_type": "markdown",
      "metadata": {
        "id": "VPJe50i5wl56"
      },
      "source": [
        "# Classification Prediction Model"
      ]
    },
    {
      "cell_type": "markdown",
      "metadata": {
        "id": "SaXA7GWP5kGT"
      },
      "source": [
        "## XGBoost with hyperparameter tuning"
      ]
    },
    {
      "cell_type": "code",
      "metadata": {
        "colab": {
          "base_uri": "https://localhost:8080/",
          "height": 213
        },
        "id": "7Uh12qF7woHA",
        "outputId": "b3b36a01-02a7-4b4e-bbe1-9fb91bc3a127"
      },
      "source": [
        "df.sample(3)"
      ],
      "execution_count": null,
      "outputs": [
        {
          "output_type": "execute_result",
          "data": {
            "text/html": [
              "<div>\n",
              "<style scoped>\n",
              "    .dataframe tbody tr th:only-of-type {\n",
              "        vertical-align: middle;\n",
              "    }\n",
              "\n",
              "    .dataframe tbody tr th {\n",
              "        vertical-align: top;\n",
              "    }\n",
              "\n",
              "    .dataframe thead th {\n",
              "        text-align: right;\n",
              "    }\n",
              "</style>\n",
              "<table border=\"1\" class=\"dataframe\">\n",
              "  <thead>\n",
              "    <tr style=\"text-align: right;\">\n",
              "      <th></th>\n",
              "      <th>name</th>\n",
              "      <th>category</th>\n",
              "      <th>review.point</th>\n",
              "      <th>price</th>\n",
              "      <th>review_description</th>\n",
              "      <th>alcohol</th>\n",
              "      <th>price_per_point</th>\n",
              "      <th>review_description_cleaned</th>\n",
              "      <th>processed_description</th>\n",
              "      <th>kmean_cluster</th>\n",
              "    </tr>\n",
              "  </thead>\n",
              "  <tbody>\n",
              "    <tr>\n",
              "      <th>413</th>\n",
              "      <td>Glenrothes, 1987 vintage, 43%</td>\n",
              "      <td>Single Malt Scotch</td>\n",
              "      <td>91.0</td>\n",
              "      <td>100.0</td>\n",
              "      <td>I feel this is by far the best whisky in the s...</td>\n",
              "      <td>43.0</td>\n",
              "      <td>1.098901</td>\n",
              "      <td>I feel this is by far the best whisky in the s...</td>\n",
              "      <td>feel far best whisky standard auchentoshan por...</td>\n",
              "      <td>4</td>\n",
              "    </tr>\n",
              "    <tr>\n",
              "      <th>2232</th>\n",
              "      <td>Whisky Galore (distilled at Old Pulteney) 16 y...</td>\n",
              "      <td>Single Malt Scotch</td>\n",
              "      <td>83.0</td>\n",
              "      <td>70.0</td>\n",
              "      <td>Benachie, formerly known as Jericho, was an Ab...</td>\n",
              "      <td>46.0</td>\n",
              "      <td>0.843373</td>\n",
              "      <td>Benachie, formerly known as Jericho, was an Ab...</td>\n",
              "      <td>benachie known jericho aberdeenshire distiller...</td>\n",
              "      <td>0</td>\n",
              "    </tr>\n",
              "    <tr>\n",
              "      <th>1253</th>\n",
              "      <td>Bunnahabhain Pedro Ximénez Cask Finish 15 year...</td>\n",
              "      <td>Single Malt Scotch</td>\n",
              "      <td>88.0</td>\n",
              "      <td>99.0</td>\n",
              "      <td>Heavily peated Bunnahabhain spirit, referred t...</td>\n",
              "      <td>54.3</td>\n",
              "      <td>1.125000</td>\n",
              "      <td>Heavily peated Bunnahabhain spirit, referred t...</td>\n",
              "      <td>heavily peated bunnahabhain spirit referred ma...</td>\n",
              "      <td>0</td>\n",
              "    </tr>\n",
              "  </tbody>\n",
              "</table>\n",
              "</div>"
            ],
            "text/plain": [
              "                                                   name  ... kmean_cluster\n",
              "413                       Glenrothes, 1987 vintage, 43%  ...             4\n",
              "2232  Whisky Galore (distilled at Old Pulteney) 16 y...  ...             0\n",
              "1253  Bunnahabhain Pedro Ximénez Cask Finish 15 year...  ...             0\n",
              "\n",
              "[3 rows x 10 columns]"
            ]
          },
          "metadata": {},
          "execution_count": 205
        }
      ]
    },
    {
      "cell_type": "code",
      "metadata": {
        "id": "gN9cg5cfxl9P"
      },
      "source": [
        "model_dataset = df.drop(['name'], axis=1)"
      ],
      "execution_count": null,
      "outputs": []
    },
    {
      "cell_type": "code",
      "metadata": {
        "id": "frIEC6wrypAy"
      },
      "source": [
        "import xgboost as xgb\n",
        "from sklearn.model_selection import train_test_split, GridSearchCV\n",
        "from category_encoders import OrdinalEncoder\n",
        "from sklearn.pipeline import Pipeline\n",
        "\n",
        "steps = [(\"encoding\", OrdinalEncoder()), \n",
        "         ('model', xgb.XGBClassifier())]\n",
        "\n",
        "pipe = Pipeline(steps)\n",
        "\n",
        "param_grid = {\n",
        "    'model__max_depth': [2, 3, 5, 7, 10],\n",
        "    'model__n_estimators': [10, 100, 500],\n",
        "}\n",
        "\n",
        "grid = GridSearchCV(pipe, param_grid, cv=5, n_jobs=-1, scoring='accuracy')"
      ],
      "execution_count": null,
      "outputs": []
    },
    {
      "cell_type": "code",
      "metadata": {
        "id": "8DOKdUN34dYH"
      },
      "source": [
        "X = model_dataset.drop('kmean_cluster', axis=1)  \n",
        "y = model_dataset['kmean_cluster']\n",
        "\n",
        "X_train, X_test, y_train, y_test = train_test_split(X, y, test_size=0.33, random_state=8)"
      ],
      "execution_count": null,
      "outputs": []
    },
    {
      "cell_type": "code",
      "metadata": {
        "colab": {
          "base_uri": "https://localhost:8080/"
        },
        "id": "tZZKgWns2Rx9",
        "outputId": "70761fa7-9a9d-4259-86c0-a82f35b36bf2"
      },
      "source": [
        "grid.fit(X_train, y_train)"
      ],
      "execution_count": null,
      "outputs": [
        {
          "output_type": "stream",
          "name": "stderr",
          "text": [
            "/usr/local/lib/python3.7/dist-packages/sklearn/model_selection/_split.py:680: UserWarning: The least populated class in y has only 1 members, which is less than n_splits=5.\n",
            "  UserWarning,\n"
          ]
        },
        {
          "output_type": "execute_result",
          "data": {
            "text/plain": [
              "GridSearchCV(cv=5,\n",
              "             estimator=Pipeline(steps=[('encoding', OrdinalEncoder()),\n",
              "                                       ('model', XGBClassifier())]),\n",
              "             n_jobs=-1,\n",
              "             param_grid={'model__max_depth': [2, 3, 5, 7, 10],\n",
              "                         'model__n_estimators': [10, 100, 500]},\n",
              "             scoring='accuracy')"
            ]
          },
          "metadata": {},
          "execution_count": 209
        }
      ]
    },
    {
      "cell_type": "code",
      "metadata": {
        "id": "lPcU-LAy5p-n"
      },
      "source": [
        "y_hat = grid.predict(X_test)"
      ],
      "execution_count": null,
      "outputs": []
    },
    {
      "cell_type": "code",
      "metadata": {
        "colab": {
          "base_uri": "https://localhost:8080/"
        },
        "id": "inbI2drW5x2s",
        "outputId": "026f3987-646d-422b-8a50-b3e9cb69e2c2"
      },
      "source": [
        "from sklearn.metrics import accuracy_score\n",
        "accuracy = accuracy_score(y_hat, y_test)\n",
        "accuracy"
      ],
      "execution_count": null,
      "outputs": [
        {
          "output_type": "execute_result",
          "data": {
            "text/plain": [
              "0.9859154929577465"
            ]
          },
          "metadata": {},
          "execution_count": 211
        }
      ]
    }
  ]
}